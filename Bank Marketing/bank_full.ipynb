{
  "nbformat": 4,
  "nbformat_minor": 0,
  "metadata": {
    "colab": {
      "provenance": [],
      "gpuType": "T4"
    },
    "kernelspec": {
      "name": "python3",
      "display_name": "Python 3"
    },
    "language_info": {
      "name": "python"
    },
    "widgets": {
      "application/vnd.jupyter.widget-state+json": {
        "3dfd6c2ffbf447c0b6f8f6ee3a65100f": {
          "model_module": "@jupyter-widgets/controls",
          "model_name": "VBoxModel",
          "model_module_version": "1.5.0",
          "state": {
            "_dom_classes": [
              "widget-interact"
            ],
            "_model_module": "@jupyter-widgets/controls",
            "_model_module_version": "1.5.0",
            "_model_name": "VBoxModel",
            "_view_count": null,
            "_view_module": "@jupyter-widgets/controls",
            "_view_module_version": "1.5.0",
            "_view_name": "VBoxView",
            "box_style": "",
            "children": [
              "IPY_MODEL_02820f397fb44b8e8eb45d8545ae7157",
              "IPY_MODEL_79a4324baca54500b4dbea81be75861b",
              "IPY_MODEL_17003ee5db5c4a03b2972bdbb7c302c1",
              "IPY_MODEL_fc2ae3cf89ef4d6d9d15a89e83f7dba3",
              "IPY_MODEL_8a4e334aac60493796317ae862d08974",
              "IPY_MODEL_719214e4c3214f8a9f6770ee5b227132",
              "IPY_MODEL_1ba4a42c709b43b385d64cacfd3b499a",
              "IPY_MODEL_e4e758f280504f6582306be8829d8d54",
              "IPY_MODEL_cc72b2fb72244e2885809c4aab76a836",
              "IPY_MODEL_f54e9eab8961400c878ab2ad6d907058",
              "IPY_MODEL_014be21f0b994a3b97ac009973a31691",
              "IPY_MODEL_b56f1d54222a4049b434f43ae411fbef",
              "IPY_MODEL_1c99d720c2bf4abab91457bf39f9a071",
              "IPY_MODEL_d66bf1c85bb844c7865107efa4c17693",
              "IPY_MODEL_2171ea8e525b487f8181d42d051a1bab",
              "IPY_MODEL_4345eae99e5c43669b6510229a6b47d5",
              "IPY_MODEL_3cc9fb3cf50e4b86ad27e6be02c8974f"
            ],
            "layout": "IPY_MODEL_fa6a73d7fe6f4a22a2581b4566e2d94b"
          }
        },
        "02820f397fb44b8e8eb45d8545ae7157": {
          "model_module": "@jupyter-widgets/controls",
          "model_name": "IntSliderModel",
          "model_module_version": "1.5.0",
          "state": {
            "_dom_classes": [],
            "_model_module": "@jupyter-widgets/controls",
            "_model_module_version": "1.5.0",
            "_model_name": "IntSliderModel",
            "_view_count": null,
            "_view_module": "@jupyter-widgets/controls",
            "_view_module_version": "1.5.0",
            "_view_name": "IntSliderView",
            "continuous_update": true,
            "description": "age",
            "description_tooltip": null,
            "disabled": false,
            "layout": "IPY_MODEL_111c932e8d98409fbf07d83694aaaeeb",
            "max": 122,
            "min": 18,
            "orientation": "horizontal",
            "readout": true,
            "readout_format": "d",
            "step": 1,
            "style": "IPY_MODEL_e33ea93f5b814729a169fcc3c4b6b15a",
            "value": 21
          }
        },
        "79a4324baca54500b4dbea81be75861b": {
          "model_module": "@jupyter-widgets/controls",
          "model_name": "DropdownModel",
          "model_module_version": "1.5.0",
          "state": {
            "_dom_classes": [],
            "_model_module": "@jupyter-widgets/controls",
            "_model_module_version": "1.5.0",
            "_model_name": "DropdownModel",
            "_options_labels": [
              "admin.",
              "unknown",
              "unemployed",
              "management",
              "housemaid",
              "entrepreneur",
              "student",
              "blue-collar",
              "self-employed",
              "retired",
              "technician",
              "services"
            ],
            "_view_count": null,
            "_view_module": "@jupyter-widgets/controls",
            "_view_module_version": "1.5.0",
            "_view_name": "DropdownView",
            "description": "job",
            "description_tooltip": null,
            "disabled": false,
            "index": 6,
            "layout": "IPY_MODEL_f76699c8a0d440ed92060e951deb7b83",
            "style": "IPY_MODEL_c1a74f1e73054c4fbba954ab62fbe226"
          }
        },
        "17003ee5db5c4a03b2972bdbb7c302c1": {
          "model_module": "@jupyter-widgets/controls",
          "model_name": "DropdownModel",
          "model_module_version": "1.5.0",
          "state": {
            "_dom_classes": [],
            "_model_module": "@jupyter-widgets/controls",
            "_model_module_version": "1.5.0",
            "_model_name": "DropdownModel",
            "_options_labels": [
              "divorced",
              "married",
              "single"
            ],
            "_view_count": null,
            "_view_module": "@jupyter-widgets/controls",
            "_view_module_version": "1.5.0",
            "_view_name": "DropdownView",
            "description": "marital",
            "description_tooltip": null,
            "disabled": false,
            "index": 2,
            "layout": "IPY_MODEL_01ca2e657952423bb3083169cb90aacd",
            "style": "IPY_MODEL_39960be9ebbf47b583e5095224ab000a"
          }
        },
        "fc2ae3cf89ef4d6d9d15a89e83f7dba3": {
          "model_module": "@jupyter-widgets/controls",
          "model_name": "DropdownModel",
          "model_module_version": "1.5.0",
          "state": {
            "_dom_classes": [],
            "_model_module": "@jupyter-widgets/controls",
            "_model_module_version": "1.5.0",
            "_model_name": "DropdownModel",
            "_options_labels": [
              "unknown",
              "secondary",
              "primary",
              "tertiary"
            ],
            "_view_count": null,
            "_view_module": "@jupyter-widgets/controls",
            "_view_module_version": "1.5.0",
            "_view_name": "DropdownView",
            "description": "education",
            "description_tooltip": null,
            "disabled": false,
            "index": 3,
            "layout": "IPY_MODEL_865df21d95d04025b16ed21d45deb006",
            "style": "IPY_MODEL_587a00e28f914f1f877e6ab87b33d227"
          }
        },
        "8a4e334aac60493796317ae862d08974": {
          "model_module": "@jupyter-widgets/controls",
          "model_name": "DropdownModel",
          "model_module_version": "1.5.0",
          "state": {
            "_dom_classes": [],
            "_model_module": "@jupyter-widgets/controls",
            "_model_module_version": "1.5.0",
            "_model_name": "DropdownModel",
            "_options_labels": [
              "yes",
              "no"
            ],
            "_view_count": null,
            "_view_module": "@jupyter-widgets/controls",
            "_view_module_version": "1.5.0",
            "_view_name": "DropdownView",
            "description": "default",
            "description_tooltip": null,
            "disabled": false,
            "index": 1,
            "layout": "IPY_MODEL_f0509bd6f25b4abe92330dfe546e624c",
            "style": "IPY_MODEL_db3635d7f2604e418dfed8f4be05d1e7"
          }
        },
        "719214e4c3214f8a9f6770ee5b227132": {
          "model_module": "@jupyter-widgets/controls",
          "model_name": "IntSliderModel",
          "model_module_version": "1.5.0",
          "state": {
            "_dom_classes": [],
            "_model_module": "@jupyter-widgets/controls",
            "_model_module_version": "1.5.0",
            "_model_name": "IntSliderModel",
            "_view_count": null,
            "_view_module": "@jupyter-widgets/controls",
            "_view_module_version": "1.5.0",
            "_view_name": "IntSliderView",
            "continuous_update": true,
            "description": "balance",
            "description_tooltip": null,
            "disabled": false,
            "layout": "IPY_MODEL_33deb1ec4a17435b9da37a4741e05c06",
            "max": 200000,
            "min": -10000,
            "orientation": "horizontal",
            "readout": true,
            "readout_format": "d",
            "step": 1,
            "style": "IPY_MODEL_35d979ef732a451ea7c0a3e6161eae0e",
            "value": 13096
          }
        },
        "1ba4a42c709b43b385d64cacfd3b499a": {
          "model_module": "@jupyter-widgets/controls",
          "model_name": "DropdownModel",
          "model_module_version": "1.5.0",
          "state": {
            "_dom_classes": [],
            "_model_module": "@jupyter-widgets/controls",
            "_model_module_version": "1.5.0",
            "_model_name": "DropdownModel",
            "_options_labels": [
              "yes",
              "no"
            ],
            "_view_count": null,
            "_view_module": "@jupyter-widgets/controls",
            "_view_module_version": "1.5.0",
            "_view_name": "DropdownView",
            "description": "housing",
            "description_tooltip": null,
            "disabled": false,
            "index": 1,
            "layout": "IPY_MODEL_b15eb8731fd7413f83c2cac49061c96f",
            "style": "IPY_MODEL_8751acc88da149f59ebc8365c6b73fba"
          }
        },
        "e4e758f280504f6582306be8829d8d54": {
          "model_module": "@jupyter-widgets/controls",
          "model_name": "DropdownModel",
          "model_module_version": "1.5.0",
          "state": {
            "_dom_classes": [],
            "_model_module": "@jupyter-widgets/controls",
            "_model_module_version": "1.5.0",
            "_model_name": "DropdownModel",
            "_options_labels": [
              "yes",
              "no"
            ],
            "_view_count": null,
            "_view_module": "@jupyter-widgets/controls",
            "_view_module_version": "1.5.0",
            "_view_name": "DropdownView",
            "description": "loan",
            "description_tooltip": null,
            "disabled": false,
            "index": 1,
            "layout": "IPY_MODEL_7287d45d707a479ab0b450150e48b914",
            "style": "IPY_MODEL_52e7400c73a848c5b3a5e14aa9201cbe"
          }
        },
        "cc72b2fb72244e2885809c4aab76a836": {
          "model_module": "@jupyter-widgets/controls",
          "model_name": "DropdownModel",
          "model_module_version": "1.5.0",
          "state": {
            "_dom_classes": [],
            "_model_module": "@jupyter-widgets/controls",
            "_model_module_version": "1.5.0",
            "_model_name": "DropdownModel",
            "_options_labels": [
              "unknown",
              "telephone",
              "cellular"
            ],
            "_view_count": null,
            "_view_module": "@jupyter-widgets/controls",
            "_view_module_version": "1.5.0",
            "_view_name": "DropdownView",
            "description": "contact",
            "description_tooltip": null,
            "disabled": false,
            "index": 2,
            "layout": "IPY_MODEL_8cbff0261bf044b9b8b58e5c78ce39b8",
            "style": "IPY_MODEL_657ef7b33e0b42e7a3343799c4ca1de2"
          }
        },
        "f54e9eab8961400c878ab2ad6d907058": {
          "model_module": "@jupyter-widgets/controls",
          "model_name": "IntSliderModel",
          "model_module_version": "1.5.0",
          "state": {
            "_dom_classes": [],
            "_model_module": "@jupyter-widgets/controls",
            "_model_module_version": "1.5.0",
            "_model_name": "IntSliderModel",
            "_view_count": null,
            "_view_module": "@jupyter-widgets/controls",
            "_view_module_version": "1.5.0",
            "_view_name": "IntSliderView",
            "continuous_update": true,
            "description": "day",
            "description_tooltip": null,
            "disabled": false,
            "layout": "IPY_MODEL_b5629b6bd75b44d9b37e0a350a64d4cb",
            "max": 31,
            "min": 1,
            "orientation": "horizontal",
            "readout": true,
            "readout_format": "d",
            "step": 1,
            "style": "IPY_MODEL_207dd7d9b7024ecf88dc1120a36b3e8a",
            "value": 16
          }
        },
        "014be21f0b994a3b97ac009973a31691": {
          "model_module": "@jupyter-widgets/controls",
          "model_name": "DropdownModel",
          "model_module_version": "1.5.0",
          "state": {
            "_dom_classes": [],
            "_model_module": "@jupyter-widgets/controls",
            "_model_module_version": "1.5.0",
            "_model_name": "DropdownModel",
            "_options_labels": [
              "jan",
              "feb",
              "mar",
              "apr",
              "may",
              "jun",
              "jul",
              "aug",
              "sep",
              "oct",
              "nov",
              "dec"
            ],
            "_view_count": null,
            "_view_module": "@jupyter-widgets/controls",
            "_view_module_version": "1.5.0",
            "_view_name": "DropdownView",
            "description": "month",
            "description_tooltip": null,
            "disabled": false,
            "index": 0,
            "layout": "IPY_MODEL_a9110db1bea94cf3a481353a2240b1c5",
            "style": "IPY_MODEL_97250714f0e24a72a706a58370ce1d2a"
          }
        },
        "b56f1d54222a4049b434f43ae411fbef": {
          "model_module": "@jupyter-widgets/controls",
          "model_name": "IntSliderModel",
          "model_module_version": "1.5.0",
          "state": {
            "_dom_classes": [],
            "_model_module": "@jupyter-widgets/controls",
            "_model_module_version": "1.5.0",
            "_model_name": "IntSliderModel",
            "_view_count": null,
            "_view_module": "@jupyter-widgets/controls",
            "_view_module_version": "1.5.0",
            "_view_name": "IntSliderView",
            "continuous_update": true,
            "description": "duration",
            "description_tooltip": null,
            "disabled": false,
            "layout": "IPY_MODEL_d57ed1dc7bad45b18ebaf823aeee63c2",
            "max": 5000,
            "min": 0,
            "orientation": "horizontal",
            "readout": true,
            "readout_format": "d",
            "step": 1,
            "style": "IPY_MODEL_81eb537d4e284166ad6c6acef85859a2",
            "value": 2137
          }
        },
        "1c99d720c2bf4abab91457bf39f9a071": {
          "model_module": "@jupyter-widgets/controls",
          "model_name": "IntSliderModel",
          "model_module_version": "1.5.0",
          "state": {
            "_dom_classes": [],
            "_model_module": "@jupyter-widgets/controls",
            "_model_module_version": "1.5.0",
            "_model_name": "IntSliderModel",
            "_view_count": null,
            "_view_module": "@jupyter-widgets/controls",
            "_view_module_version": "1.5.0",
            "_view_name": "IntSliderView",
            "continuous_update": true,
            "description": "campaign",
            "description_tooltip": null,
            "disabled": false,
            "layout": "IPY_MODEL_1c58c9bb9118491696f40a0215d8af73",
            "max": 100,
            "min": 1,
            "orientation": "horizontal",
            "readout": true,
            "readout_format": "d",
            "step": 1,
            "style": "IPY_MODEL_1f0e6925c5944623b39452d5f91f4e0b",
            "value": 45
          }
        },
        "d66bf1c85bb844c7865107efa4c17693": {
          "model_module": "@jupyter-widgets/controls",
          "model_name": "IntSliderModel",
          "model_module_version": "1.5.0",
          "state": {
            "_dom_classes": [],
            "_model_module": "@jupyter-widgets/controls",
            "_model_module_version": "1.5.0",
            "_model_name": "IntSliderModel",
            "_view_count": null,
            "_view_module": "@jupyter-widgets/controls",
            "_view_module_version": "1.5.0",
            "_view_name": "IntSliderView",
            "continuous_update": true,
            "description": "pdays",
            "description_tooltip": null,
            "disabled": false,
            "layout": "IPY_MODEL_5824af09d398492cbb90c89a54423eb6",
            "max": 1000,
            "min": -1,
            "orientation": "horizontal",
            "readout": true,
            "readout_format": "d",
            "step": 1,
            "style": "IPY_MODEL_a9df5efc0d5f4b18b193ffb4849f0dc3",
            "value": -1
          }
        },
        "2171ea8e525b487f8181d42d051a1bab": {
          "model_module": "@jupyter-widgets/controls",
          "model_name": "IntSliderModel",
          "model_module_version": "1.5.0",
          "state": {
            "_dom_classes": [],
            "_model_module": "@jupyter-widgets/controls",
            "_model_module_version": "1.5.0",
            "_model_name": "IntSliderModel",
            "_view_count": null,
            "_view_module": "@jupyter-widgets/controls",
            "_view_module_version": "1.5.0",
            "_view_name": "IntSliderView",
            "continuous_update": true,
            "description": "previous",
            "description_tooltip": null,
            "disabled": false,
            "layout": "IPY_MODEL_3fc2be09f9fa473da76a370b8ece7225",
            "max": 300,
            "min": 0,
            "orientation": "horizontal",
            "readout": true,
            "readout_format": "d",
            "step": 1,
            "style": "IPY_MODEL_e78dfe8b7c184694bc9d4423a7482147",
            "value": 3
          }
        },
        "4345eae99e5c43669b6510229a6b47d5": {
          "model_module": "@jupyter-widgets/controls",
          "model_name": "DropdownModel",
          "model_module_version": "1.5.0",
          "state": {
            "_dom_classes": [],
            "_model_module": "@jupyter-widgets/controls",
            "_model_module_version": "1.5.0",
            "_model_name": "DropdownModel",
            "_options_labels": [
              "unknown",
              "other",
              "failure",
              "success"
            ],
            "_view_count": null,
            "_view_module": "@jupyter-widgets/controls",
            "_view_module_version": "1.5.0",
            "_view_name": "DropdownView",
            "description": "poutcome",
            "description_tooltip": null,
            "disabled": false,
            "index": 0,
            "layout": "IPY_MODEL_63f4563bdf69437987d35819e54452e6",
            "style": "IPY_MODEL_c39e7e97db9940feb71ab51258ddd92c"
          }
        },
        "3cc9fb3cf50e4b86ad27e6be02c8974f": {
          "model_module": "@jupyter-widgets/output",
          "model_name": "OutputModel",
          "model_module_version": "1.0.0",
          "state": {
            "_dom_classes": [],
            "_model_module": "@jupyter-widgets/output",
            "_model_module_version": "1.0.0",
            "_model_name": "OutputModel",
            "_view_count": null,
            "_view_module": "@jupyter-widgets/output",
            "_view_module_version": "1.0.0",
            "_view_name": "OutputView",
            "layout": "IPY_MODEL_660488de65c1447ab77165be37f212fc",
            "msg_id": "",
            "outputs": [
              {
                "output_type": "stream",
                "name": "stdout",
                "text": [
                  "Ймовірність того, що даний клієнт покладе кошти на депозит - 0.9037146365416636\n",
                  "Спробуйте зателефонувати\n"
                ]
              }
            ]
          }
        },
        "fa6a73d7fe6f4a22a2581b4566e2d94b": {
          "model_module": "@jupyter-widgets/base",
          "model_name": "LayoutModel",
          "model_module_version": "1.2.0",
          "state": {
            "_model_module": "@jupyter-widgets/base",
            "_model_module_version": "1.2.0",
            "_model_name": "LayoutModel",
            "_view_count": null,
            "_view_module": "@jupyter-widgets/base",
            "_view_module_version": "1.2.0",
            "_view_name": "LayoutView",
            "align_content": null,
            "align_items": null,
            "align_self": null,
            "border": null,
            "bottom": null,
            "display": null,
            "flex": null,
            "flex_flow": null,
            "grid_area": null,
            "grid_auto_columns": null,
            "grid_auto_flow": null,
            "grid_auto_rows": null,
            "grid_column": null,
            "grid_gap": null,
            "grid_row": null,
            "grid_template_areas": null,
            "grid_template_columns": null,
            "grid_template_rows": null,
            "height": null,
            "justify_content": null,
            "justify_items": null,
            "left": null,
            "margin": null,
            "max_height": null,
            "max_width": null,
            "min_height": null,
            "min_width": null,
            "object_fit": null,
            "object_position": null,
            "order": null,
            "overflow": null,
            "overflow_x": null,
            "overflow_y": null,
            "padding": null,
            "right": null,
            "top": null,
            "visibility": null,
            "width": null
          }
        },
        "111c932e8d98409fbf07d83694aaaeeb": {
          "model_module": "@jupyter-widgets/base",
          "model_name": "LayoutModel",
          "model_module_version": "1.2.0",
          "state": {
            "_model_module": "@jupyter-widgets/base",
            "_model_module_version": "1.2.0",
            "_model_name": "LayoutModel",
            "_view_count": null,
            "_view_module": "@jupyter-widgets/base",
            "_view_module_version": "1.2.0",
            "_view_name": "LayoutView",
            "align_content": null,
            "align_items": null,
            "align_self": null,
            "border": null,
            "bottom": null,
            "display": null,
            "flex": null,
            "flex_flow": null,
            "grid_area": null,
            "grid_auto_columns": null,
            "grid_auto_flow": null,
            "grid_auto_rows": null,
            "grid_column": null,
            "grid_gap": null,
            "grid_row": null,
            "grid_template_areas": null,
            "grid_template_columns": null,
            "grid_template_rows": null,
            "height": null,
            "justify_content": null,
            "justify_items": null,
            "left": null,
            "margin": null,
            "max_height": null,
            "max_width": null,
            "min_height": null,
            "min_width": null,
            "object_fit": null,
            "object_position": null,
            "order": null,
            "overflow": null,
            "overflow_x": null,
            "overflow_y": null,
            "padding": null,
            "right": null,
            "top": null,
            "visibility": null,
            "width": null
          }
        },
        "e33ea93f5b814729a169fcc3c4b6b15a": {
          "model_module": "@jupyter-widgets/controls",
          "model_name": "SliderStyleModel",
          "model_module_version": "1.5.0",
          "state": {
            "_model_module": "@jupyter-widgets/controls",
            "_model_module_version": "1.5.0",
            "_model_name": "SliderStyleModel",
            "_view_count": null,
            "_view_module": "@jupyter-widgets/base",
            "_view_module_version": "1.2.0",
            "_view_name": "StyleView",
            "description_width": "",
            "handle_color": null
          }
        },
        "f76699c8a0d440ed92060e951deb7b83": {
          "model_module": "@jupyter-widgets/base",
          "model_name": "LayoutModel",
          "model_module_version": "1.2.0",
          "state": {
            "_model_module": "@jupyter-widgets/base",
            "_model_module_version": "1.2.0",
            "_model_name": "LayoutModel",
            "_view_count": null,
            "_view_module": "@jupyter-widgets/base",
            "_view_module_version": "1.2.0",
            "_view_name": "LayoutView",
            "align_content": null,
            "align_items": null,
            "align_self": null,
            "border": null,
            "bottom": null,
            "display": null,
            "flex": null,
            "flex_flow": null,
            "grid_area": null,
            "grid_auto_columns": null,
            "grid_auto_flow": null,
            "grid_auto_rows": null,
            "grid_column": null,
            "grid_gap": null,
            "grid_row": null,
            "grid_template_areas": null,
            "grid_template_columns": null,
            "grid_template_rows": null,
            "height": null,
            "justify_content": null,
            "justify_items": null,
            "left": null,
            "margin": null,
            "max_height": null,
            "max_width": null,
            "min_height": null,
            "min_width": null,
            "object_fit": null,
            "object_position": null,
            "order": null,
            "overflow": null,
            "overflow_x": null,
            "overflow_y": null,
            "padding": null,
            "right": null,
            "top": null,
            "visibility": null,
            "width": null
          }
        },
        "c1a74f1e73054c4fbba954ab62fbe226": {
          "model_module": "@jupyter-widgets/controls",
          "model_name": "DescriptionStyleModel",
          "model_module_version": "1.5.0",
          "state": {
            "_model_module": "@jupyter-widgets/controls",
            "_model_module_version": "1.5.0",
            "_model_name": "DescriptionStyleModel",
            "_view_count": null,
            "_view_module": "@jupyter-widgets/base",
            "_view_module_version": "1.2.0",
            "_view_name": "StyleView",
            "description_width": ""
          }
        },
        "01ca2e657952423bb3083169cb90aacd": {
          "model_module": "@jupyter-widgets/base",
          "model_name": "LayoutModel",
          "model_module_version": "1.2.0",
          "state": {
            "_model_module": "@jupyter-widgets/base",
            "_model_module_version": "1.2.0",
            "_model_name": "LayoutModel",
            "_view_count": null,
            "_view_module": "@jupyter-widgets/base",
            "_view_module_version": "1.2.0",
            "_view_name": "LayoutView",
            "align_content": null,
            "align_items": null,
            "align_self": null,
            "border": null,
            "bottom": null,
            "display": null,
            "flex": null,
            "flex_flow": null,
            "grid_area": null,
            "grid_auto_columns": null,
            "grid_auto_flow": null,
            "grid_auto_rows": null,
            "grid_column": null,
            "grid_gap": null,
            "grid_row": null,
            "grid_template_areas": null,
            "grid_template_columns": null,
            "grid_template_rows": null,
            "height": null,
            "justify_content": null,
            "justify_items": null,
            "left": null,
            "margin": null,
            "max_height": null,
            "max_width": null,
            "min_height": null,
            "min_width": null,
            "object_fit": null,
            "object_position": null,
            "order": null,
            "overflow": null,
            "overflow_x": null,
            "overflow_y": null,
            "padding": null,
            "right": null,
            "top": null,
            "visibility": null,
            "width": null
          }
        },
        "39960be9ebbf47b583e5095224ab000a": {
          "model_module": "@jupyter-widgets/controls",
          "model_name": "DescriptionStyleModel",
          "model_module_version": "1.5.0",
          "state": {
            "_model_module": "@jupyter-widgets/controls",
            "_model_module_version": "1.5.0",
            "_model_name": "DescriptionStyleModel",
            "_view_count": null,
            "_view_module": "@jupyter-widgets/base",
            "_view_module_version": "1.2.0",
            "_view_name": "StyleView",
            "description_width": ""
          }
        },
        "865df21d95d04025b16ed21d45deb006": {
          "model_module": "@jupyter-widgets/base",
          "model_name": "LayoutModel",
          "model_module_version": "1.2.0",
          "state": {
            "_model_module": "@jupyter-widgets/base",
            "_model_module_version": "1.2.0",
            "_model_name": "LayoutModel",
            "_view_count": null,
            "_view_module": "@jupyter-widgets/base",
            "_view_module_version": "1.2.0",
            "_view_name": "LayoutView",
            "align_content": null,
            "align_items": null,
            "align_self": null,
            "border": null,
            "bottom": null,
            "display": null,
            "flex": null,
            "flex_flow": null,
            "grid_area": null,
            "grid_auto_columns": null,
            "grid_auto_flow": null,
            "grid_auto_rows": null,
            "grid_column": null,
            "grid_gap": null,
            "grid_row": null,
            "grid_template_areas": null,
            "grid_template_columns": null,
            "grid_template_rows": null,
            "height": null,
            "justify_content": null,
            "justify_items": null,
            "left": null,
            "margin": null,
            "max_height": null,
            "max_width": null,
            "min_height": null,
            "min_width": null,
            "object_fit": null,
            "object_position": null,
            "order": null,
            "overflow": null,
            "overflow_x": null,
            "overflow_y": null,
            "padding": null,
            "right": null,
            "top": null,
            "visibility": null,
            "width": null
          }
        },
        "587a00e28f914f1f877e6ab87b33d227": {
          "model_module": "@jupyter-widgets/controls",
          "model_name": "DescriptionStyleModel",
          "model_module_version": "1.5.0",
          "state": {
            "_model_module": "@jupyter-widgets/controls",
            "_model_module_version": "1.5.0",
            "_model_name": "DescriptionStyleModel",
            "_view_count": null,
            "_view_module": "@jupyter-widgets/base",
            "_view_module_version": "1.2.0",
            "_view_name": "StyleView",
            "description_width": ""
          }
        },
        "f0509bd6f25b4abe92330dfe546e624c": {
          "model_module": "@jupyter-widgets/base",
          "model_name": "LayoutModel",
          "model_module_version": "1.2.0",
          "state": {
            "_model_module": "@jupyter-widgets/base",
            "_model_module_version": "1.2.0",
            "_model_name": "LayoutModel",
            "_view_count": null,
            "_view_module": "@jupyter-widgets/base",
            "_view_module_version": "1.2.0",
            "_view_name": "LayoutView",
            "align_content": null,
            "align_items": null,
            "align_self": null,
            "border": null,
            "bottom": null,
            "display": null,
            "flex": null,
            "flex_flow": null,
            "grid_area": null,
            "grid_auto_columns": null,
            "grid_auto_flow": null,
            "grid_auto_rows": null,
            "grid_column": null,
            "grid_gap": null,
            "grid_row": null,
            "grid_template_areas": null,
            "grid_template_columns": null,
            "grid_template_rows": null,
            "height": null,
            "justify_content": null,
            "justify_items": null,
            "left": null,
            "margin": null,
            "max_height": null,
            "max_width": null,
            "min_height": null,
            "min_width": null,
            "object_fit": null,
            "object_position": null,
            "order": null,
            "overflow": null,
            "overflow_x": null,
            "overflow_y": null,
            "padding": null,
            "right": null,
            "top": null,
            "visibility": null,
            "width": null
          }
        },
        "db3635d7f2604e418dfed8f4be05d1e7": {
          "model_module": "@jupyter-widgets/controls",
          "model_name": "DescriptionStyleModel",
          "model_module_version": "1.5.0",
          "state": {
            "_model_module": "@jupyter-widgets/controls",
            "_model_module_version": "1.5.0",
            "_model_name": "DescriptionStyleModel",
            "_view_count": null,
            "_view_module": "@jupyter-widgets/base",
            "_view_module_version": "1.2.0",
            "_view_name": "StyleView",
            "description_width": ""
          }
        },
        "33deb1ec4a17435b9da37a4741e05c06": {
          "model_module": "@jupyter-widgets/base",
          "model_name": "LayoutModel",
          "model_module_version": "1.2.0",
          "state": {
            "_model_module": "@jupyter-widgets/base",
            "_model_module_version": "1.2.0",
            "_model_name": "LayoutModel",
            "_view_count": null,
            "_view_module": "@jupyter-widgets/base",
            "_view_module_version": "1.2.0",
            "_view_name": "LayoutView",
            "align_content": null,
            "align_items": null,
            "align_self": null,
            "border": null,
            "bottom": null,
            "display": null,
            "flex": null,
            "flex_flow": null,
            "grid_area": null,
            "grid_auto_columns": null,
            "grid_auto_flow": null,
            "grid_auto_rows": null,
            "grid_column": null,
            "grid_gap": null,
            "grid_row": null,
            "grid_template_areas": null,
            "grid_template_columns": null,
            "grid_template_rows": null,
            "height": null,
            "justify_content": null,
            "justify_items": null,
            "left": null,
            "margin": null,
            "max_height": null,
            "max_width": null,
            "min_height": null,
            "min_width": null,
            "object_fit": null,
            "object_position": null,
            "order": null,
            "overflow": null,
            "overflow_x": null,
            "overflow_y": null,
            "padding": null,
            "right": null,
            "top": null,
            "visibility": null,
            "width": null
          }
        },
        "35d979ef732a451ea7c0a3e6161eae0e": {
          "model_module": "@jupyter-widgets/controls",
          "model_name": "SliderStyleModel",
          "model_module_version": "1.5.0",
          "state": {
            "_model_module": "@jupyter-widgets/controls",
            "_model_module_version": "1.5.0",
            "_model_name": "SliderStyleModel",
            "_view_count": null,
            "_view_module": "@jupyter-widgets/base",
            "_view_module_version": "1.2.0",
            "_view_name": "StyleView",
            "description_width": "",
            "handle_color": null
          }
        },
        "b15eb8731fd7413f83c2cac49061c96f": {
          "model_module": "@jupyter-widgets/base",
          "model_name": "LayoutModel",
          "model_module_version": "1.2.0",
          "state": {
            "_model_module": "@jupyter-widgets/base",
            "_model_module_version": "1.2.0",
            "_model_name": "LayoutModel",
            "_view_count": null,
            "_view_module": "@jupyter-widgets/base",
            "_view_module_version": "1.2.0",
            "_view_name": "LayoutView",
            "align_content": null,
            "align_items": null,
            "align_self": null,
            "border": null,
            "bottom": null,
            "display": null,
            "flex": null,
            "flex_flow": null,
            "grid_area": null,
            "grid_auto_columns": null,
            "grid_auto_flow": null,
            "grid_auto_rows": null,
            "grid_column": null,
            "grid_gap": null,
            "grid_row": null,
            "grid_template_areas": null,
            "grid_template_columns": null,
            "grid_template_rows": null,
            "height": null,
            "justify_content": null,
            "justify_items": null,
            "left": null,
            "margin": null,
            "max_height": null,
            "max_width": null,
            "min_height": null,
            "min_width": null,
            "object_fit": null,
            "object_position": null,
            "order": null,
            "overflow": null,
            "overflow_x": null,
            "overflow_y": null,
            "padding": null,
            "right": null,
            "top": null,
            "visibility": null,
            "width": null
          }
        },
        "8751acc88da149f59ebc8365c6b73fba": {
          "model_module": "@jupyter-widgets/controls",
          "model_name": "DescriptionStyleModel",
          "model_module_version": "1.5.0",
          "state": {
            "_model_module": "@jupyter-widgets/controls",
            "_model_module_version": "1.5.0",
            "_model_name": "DescriptionStyleModel",
            "_view_count": null,
            "_view_module": "@jupyter-widgets/base",
            "_view_module_version": "1.2.0",
            "_view_name": "StyleView",
            "description_width": ""
          }
        },
        "7287d45d707a479ab0b450150e48b914": {
          "model_module": "@jupyter-widgets/base",
          "model_name": "LayoutModel",
          "model_module_version": "1.2.0",
          "state": {
            "_model_module": "@jupyter-widgets/base",
            "_model_module_version": "1.2.0",
            "_model_name": "LayoutModel",
            "_view_count": null,
            "_view_module": "@jupyter-widgets/base",
            "_view_module_version": "1.2.0",
            "_view_name": "LayoutView",
            "align_content": null,
            "align_items": null,
            "align_self": null,
            "border": null,
            "bottom": null,
            "display": null,
            "flex": null,
            "flex_flow": null,
            "grid_area": null,
            "grid_auto_columns": null,
            "grid_auto_flow": null,
            "grid_auto_rows": null,
            "grid_column": null,
            "grid_gap": null,
            "grid_row": null,
            "grid_template_areas": null,
            "grid_template_columns": null,
            "grid_template_rows": null,
            "height": null,
            "justify_content": null,
            "justify_items": null,
            "left": null,
            "margin": null,
            "max_height": null,
            "max_width": null,
            "min_height": null,
            "min_width": null,
            "object_fit": null,
            "object_position": null,
            "order": null,
            "overflow": null,
            "overflow_x": null,
            "overflow_y": null,
            "padding": null,
            "right": null,
            "top": null,
            "visibility": null,
            "width": null
          }
        },
        "52e7400c73a848c5b3a5e14aa9201cbe": {
          "model_module": "@jupyter-widgets/controls",
          "model_name": "DescriptionStyleModel",
          "model_module_version": "1.5.0",
          "state": {
            "_model_module": "@jupyter-widgets/controls",
            "_model_module_version": "1.5.0",
            "_model_name": "DescriptionStyleModel",
            "_view_count": null,
            "_view_module": "@jupyter-widgets/base",
            "_view_module_version": "1.2.0",
            "_view_name": "StyleView",
            "description_width": ""
          }
        },
        "8cbff0261bf044b9b8b58e5c78ce39b8": {
          "model_module": "@jupyter-widgets/base",
          "model_name": "LayoutModel",
          "model_module_version": "1.2.0",
          "state": {
            "_model_module": "@jupyter-widgets/base",
            "_model_module_version": "1.2.0",
            "_model_name": "LayoutModel",
            "_view_count": null,
            "_view_module": "@jupyter-widgets/base",
            "_view_module_version": "1.2.0",
            "_view_name": "LayoutView",
            "align_content": null,
            "align_items": null,
            "align_self": null,
            "border": null,
            "bottom": null,
            "display": null,
            "flex": null,
            "flex_flow": null,
            "grid_area": null,
            "grid_auto_columns": null,
            "grid_auto_flow": null,
            "grid_auto_rows": null,
            "grid_column": null,
            "grid_gap": null,
            "grid_row": null,
            "grid_template_areas": null,
            "grid_template_columns": null,
            "grid_template_rows": null,
            "height": null,
            "justify_content": null,
            "justify_items": null,
            "left": null,
            "margin": null,
            "max_height": null,
            "max_width": null,
            "min_height": null,
            "min_width": null,
            "object_fit": null,
            "object_position": null,
            "order": null,
            "overflow": null,
            "overflow_x": null,
            "overflow_y": null,
            "padding": null,
            "right": null,
            "top": null,
            "visibility": null,
            "width": null
          }
        },
        "657ef7b33e0b42e7a3343799c4ca1de2": {
          "model_module": "@jupyter-widgets/controls",
          "model_name": "DescriptionStyleModel",
          "model_module_version": "1.5.0",
          "state": {
            "_model_module": "@jupyter-widgets/controls",
            "_model_module_version": "1.5.0",
            "_model_name": "DescriptionStyleModel",
            "_view_count": null,
            "_view_module": "@jupyter-widgets/base",
            "_view_module_version": "1.2.0",
            "_view_name": "StyleView",
            "description_width": ""
          }
        },
        "b5629b6bd75b44d9b37e0a350a64d4cb": {
          "model_module": "@jupyter-widgets/base",
          "model_name": "LayoutModel",
          "model_module_version": "1.2.0",
          "state": {
            "_model_module": "@jupyter-widgets/base",
            "_model_module_version": "1.2.0",
            "_model_name": "LayoutModel",
            "_view_count": null,
            "_view_module": "@jupyter-widgets/base",
            "_view_module_version": "1.2.0",
            "_view_name": "LayoutView",
            "align_content": null,
            "align_items": null,
            "align_self": null,
            "border": null,
            "bottom": null,
            "display": null,
            "flex": null,
            "flex_flow": null,
            "grid_area": null,
            "grid_auto_columns": null,
            "grid_auto_flow": null,
            "grid_auto_rows": null,
            "grid_column": null,
            "grid_gap": null,
            "grid_row": null,
            "grid_template_areas": null,
            "grid_template_columns": null,
            "grid_template_rows": null,
            "height": null,
            "justify_content": null,
            "justify_items": null,
            "left": null,
            "margin": null,
            "max_height": null,
            "max_width": null,
            "min_height": null,
            "min_width": null,
            "object_fit": null,
            "object_position": null,
            "order": null,
            "overflow": null,
            "overflow_x": null,
            "overflow_y": null,
            "padding": null,
            "right": null,
            "top": null,
            "visibility": null,
            "width": null
          }
        },
        "207dd7d9b7024ecf88dc1120a36b3e8a": {
          "model_module": "@jupyter-widgets/controls",
          "model_name": "SliderStyleModel",
          "model_module_version": "1.5.0",
          "state": {
            "_model_module": "@jupyter-widgets/controls",
            "_model_module_version": "1.5.0",
            "_model_name": "SliderStyleModel",
            "_view_count": null,
            "_view_module": "@jupyter-widgets/base",
            "_view_module_version": "1.2.0",
            "_view_name": "StyleView",
            "description_width": "",
            "handle_color": null
          }
        },
        "a9110db1bea94cf3a481353a2240b1c5": {
          "model_module": "@jupyter-widgets/base",
          "model_name": "LayoutModel",
          "model_module_version": "1.2.0",
          "state": {
            "_model_module": "@jupyter-widgets/base",
            "_model_module_version": "1.2.0",
            "_model_name": "LayoutModel",
            "_view_count": null,
            "_view_module": "@jupyter-widgets/base",
            "_view_module_version": "1.2.0",
            "_view_name": "LayoutView",
            "align_content": null,
            "align_items": null,
            "align_self": null,
            "border": null,
            "bottom": null,
            "display": null,
            "flex": null,
            "flex_flow": null,
            "grid_area": null,
            "grid_auto_columns": null,
            "grid_auto_flow": null,
            "grid_auto_rows": null,
            "grid_column": null,
            "grid_gap": null,
            "grid_row": null,
            "grid_template_areas": null,
            "grid_template_columns": null,
            "grid_template_rows": null,
            "height": null,
            "justify_content": null,
            "justify_items": null,
            "left": null,
            "margin": null,
            "max_height": null,
            "max_width": null,
            "min_height": null,
            "min_width": null,
            "object_fit": null,
            "object_position": null,
            "order": null,
            "overflow": null,
            "overflow_x": null,
            "overflow_y": null,
            "padding": null,
            "right": null,
            "top": null,
            "visibility": null,
            "width": null
          }
        },
        "97250714f0e24a72a706a58370ce1d2a": {
          "model_module": "@jupyter-widgets/controls",
          "model_name": "DescriptionStyleModel",
          "model_module_version": "1.5.0",
          "state": {
            "_model_module": "@jupyter-widgets/controls",
            "_model_module_version": "1.5.0",
            "_model_name": "DescriptionStyleModel",
            "_view_count": null,
            "_view_module": "@jupyter-widgets/base",
            "_view_module_version": "1.2.0",
            "_view_name": "StyleView",
            "description_width": ""
          }
        },
        "d57ed1dc7bad45b18ebaf823aeee63c2": {
          "model_module": "@jupyter-widgets/base",
          "model_name": "LayoutModel",
          "model_module_version": "1.2.0",
          "state": {
            "_model_module": "@jupyter-widgets/base",
            "_model_module_version": "1.2.0",
            "_model_name": "LayoutModel",
            "_view_count": null,
            "_view_module": "@jupyter-widgets/base",
            "_view_module_version": "1.2.0",
            "_view_name": "LayoutView",
            "align_content": null,
            "align_items": null,
            "align_self": null,
            "border": null,
            "bottom": null,
            "display": null,
            "flex": null,
            "flex_flow": null,
            "grid_area": null,
            "grid_auto_columns": null,
            "grid_auto_flow": null,
            "grid_auto_rows": null,
            "grid_column": null,
            "grid_gap": null,
            "grid_row": null,
            "grid_template_areas": null,
            "grid_template_columns": null,
            "grid_template_rows": null,
            "height": null,
            "justify_content": null,
            "justify_items": null,
            "left": null,
            "margin": null,
            "max_height": null,
            "max_width": null,
            "min_height": null,
            "min_width": null,
            "object_fit": null,
            "object_position": null,
            "order": null,
            "overflow": null,
            "overflow_x": null,
            "overflow_y": null,
            "padding": null,
            "right": null,
            "top": null,
            "visibility": null,
            "width": null
          }
        },
        "81eb537d4e284166ad6c6acef85859a2": {
          "model_module": "@jupyter-widgets/controls",
          "model_name": "SliderStyleModel",
          "model_module_version": "1.5.0",
          "state": {
            "_model_module": "@jupyter-widgets/controls",
            "_model_module_version": "1.5.0",
            "_model_name": "SliderStyleModel",
            "_view_count": null,
            "_view_module": "@jupyter-widgets/base",
            "_view_module_version": "1.2.0",
            "_view_name": "StyleView",
            "description_width": "",
            "handle_color": null
          }
        },
        "1c58c9bb9118491696f40a0215d8af73": {
          "model_module": "@jupyter-widgets/base",
          "model_name": "LayoutModel",
          "model_module_version": "1.2.0",
          "state": {
            "_model_module": "@jupyter-widgets/base",
            "_model_module_version": "1.2.0",
            "_model_name": "LayoutModel",
            "_view_count": null,
            "_view_module": "@jupyter-widgets/base",
            "_view_module_version": "1.2.0",
            "_view_name": "LayoutView",
            "align_content": null,
            "align_items": null,
            "align_self": null,
            "border": null,
            "bottom": null,
            "display": null,
            "flex": null,
            "flex_flow": null,
            "grid_area": null,
            "grid_auto_columns": null,
            "grid_auto_flow": null,
            "grid_auto_rows": null,
            "grid_column": null,
            "grid_gap": null,
            "grid_row": null,
            "grid_template_areas": null,
            "grid_template_columns": null,
            "grid_template_rows": null,
            "height": null,
            "justify_content": null,
            "justify_items": null,
            "left": null,
            "margin": null,
            "max_height": null,
            "max_width": null,
            "min_height": null,
            "min_width": null,
            "object_fit": null,
            "object_position": null,
            "order": null,
            "overflow": null,
            "overflow_x": null,
            "overflow_y": null,
            "padding": null,
            "right": null,
            "top": null,
            "visibility": null,
            "width": null
          }
        },
        "1f0e6925c5944623b39452d5f91f4e0b": {
          "model_module": "@jupyter-widgets/controls",
          "model_name": "SliderStyleModel",
          "model_module_version": "1.5.0",
          "state": {
            "_model_module": "@jupyter-widgets/controls",
            "_model_module_version": "1.5.0",
            "_model_name": "SliderStyleModel",
            "_view_count": null,
            "_view_module": "@jupyter-widgets/base",
            "_view_module_version": "1.2.0",
            "_view_name": "StyleView",
            "description_width": "",
            "handle_color": null
          }
        },
        "5824af09d398492cbb90c89a54423eb6": {
          "model_module": "@jupyter-widgets/base",
          "model_name": "LayoutModel",
          "model_module_version": "1.2.0",
          "state": {
            "_model_module": "@jupyter-widgets/base",
            "_model_module_version": "1.2.0",
            "_model_name": "LayoutModel",
            "_view_count": null,
            "_view_module": "@jupyter-widgets/base",
            "_view_module_version": "1.2.0",
            "_view_name": "LayoutView",
            "align_content": null,
            "align_items": null,
            "align_self": null,
            "border": null,
            "bottom": null,
            "display": null,
            "flex": null,
            "flex_flow": null,
            "grid_area": null,
            "grid_auto_columns": null,
            "grid_auto_flow": null,
            "grid_auto_rows": null,
            "grid_column": null,
            "grid_gap": null,
            "grid_row": null,
            "grid_template_areas": null,
            "grid_template_columns": null,
            "grid_template_rows": null,
            "height": null,
            "justify_content": null,
            "justify_items": null,
            "left": null,
            "margin": null,
            "max_height": null,
            "max_width": null,
            "min_height": null,
            "min_width": null,
            "object_fit": null,
            "object_position": null,
            "order": null,
            "overflow": null,
            "overflow_x": null,
            "overflow_y": null,
            "padding": null,
            "right": null,
            "top": null,
            "visibility": null,
            "width": null
          }
        },
        "a9df5efc0d5f4b18b193ffb4849f0dc3": {
          "model_module": "@jupyter-widgets/controls",
          "model_name": "SliderStyleModel",
          "model_module_version": "1.5.0",
          "state": {
            "_model_module": "@jupyter-widgets/controls",
            "_model_module_version": "1.5.0",
            "_model_name": "SliderStyleModel",
            "_view_count": null,
            "_view_module": "@jupyter-widgets/base",
            "_view_module_version": "1.2.0",
            "_view_name": "StyleView",
            "description_width": "",
            "handle_color": null
          }
        },
        "3fc2be09f9fa473da76a370b8ece7225": {
          "model_module": "@jupyter-widgets/base",
          "model_name": "LayoutModel",
          "model_module_version": "1.2.0",
          "state": {
            "_model_module": "@jupyter-widgets/base",
            "_model_module_version": "1.2.0",
            "_model_name": "LayoutModel",
            "_view_count": null,
            "_view_module": "@jupyter-widgets/base",
            "_view_module_version": "1.2.0",
            "_view_name": "LayoutView",
            "align_content": null,
            "align_items": null,
            "align_self": null,
            "border": null,
            "bottom": null,
            "display": null,
            "flex": null,
            "flex_flow": null,
            "grid_area": null,
            "grid_auto_columns": null,
            "grid_auto_flow": null,
            "grid_auto_rows": null,
            "grid_column": null,
            "grid_gap": null,
            "grid_row": null,
            "grid_template_areas": null,
            "grid_template_columns": null,
            "grid_template_rows": null,
            "height": null,
            "justify_content": null,
            "justify_items": null,
            "left": null,
            "margin": null,
            "max_height": null,
            "max_width": null,
            "min_height": null,
            "min_width": null,
            "object_fit": null,
            "object_position": null,
            "order": null,
            "overflow": null,
            "overflow_x": null,
            "overflow_y": null,
            "padding": null,
            "right": null,
            "top": null,
            "visibility": null,
            "width": null
          }
        },
        "e78dfe8b7c184694bc9d4423a7482147": {
          "model_module": "@jupyter-widgets/controls",
          "model_name": "SliderStyleModel",
          "model_module_version": "1.5.0",
          "state": {
            "_model_module": "@jupyter-widgets/controls",
            "_model_module_version": "1.5.0",
            "_model_name": "SliderStyleModel",
            "_view_count": null,
            "_view_module": "@jupyter-widgets/base",
            "_view_module_version": "1.2.0",
            "_view_name": "StyleView",
            "description_width": "",
            "handle_color": null
          }
        },
        "63f4563bdf69437987d35819e54452e6": {
          "model_module": "@jupyter-widgets/base",
          "model_name": "LayoutModel",
          "model_module_version": "1.2.0",
          "state": {
            "_model_module": "@jupyter-widgets/base",
            "_model_module_version": "1.2.0",
            "_model_name": "LayoutModel",
            "_view_count": null,
            "_view_module": "@jupyter-widgets/base",
            "_view_module_version": "1.2.0",
            "_view_name": "LayoutView",
            "align_content": null,
            "align_items": null,
            "align_self": null,
            "border": null,
            "bottom": null,
            "display": null,
            "flex": null,
            "flex_flow": null,
            "grid_area": null,
            "grid_auto_columns": null,
            "grid_auto_flow": null,
            "grid_auto_rows": null,
            "grid_column": null,
            "grid_gap": null,
            "grid_row": null,
            "grid_template_areas": null,
            "grid_template_columns": null,
            "grid_template_rows": null,
            "height": null,
            "justify_content": null,
            "justify_items": null,
            "left": null,
            "margin": null,
            "max_height": null,
            "max_width": null,
            "min_height": null,
            "min_width": null,
            "object_fit": null,
            "object_position": null,
            "order": null,
            "overflow": null,
            "overflow_x": null,
            "overflow_y": null,
            "padding": null,
            "right": null,
            "top": null,
            "visibility": null,
            "width": null
          }
        },
        "c39e7e97db9940feb71ab51258ddd92c": {
          "model_module": "@jupyter-widgets/controls",
          "model_name": "DescriptionStyleModel",
          "model_module_version": "1.5.0",
          "state": {
            "_model_module": "@jupyter-widgets/controls",
            "_model_module_version": "1.5.0",
            "_model_name": "DescriptionStyleModel",
            "_view_count": null,
            "_view_module": "@jupyter-widgets/base",
            "_view_module_version": "1.2.0",
            "_view_name": "StyleView",
            "description_width": ""
          }
        },
        "660488de65c1447ab77165be37f212fc": {
          "model_module": "@jupyter-widgets/base",
          "model_name": "LayoutModel",
          "model_module_version": "1.2.0",
          "state": {
            "_model_module": "@jupyter-widgets/base",
            "_model_module_version": "1.2.0",
            "_model_name": "LayoutModel",
            "_view_count": null,
            "_view_module": "@jupyter-widgets/base",
            "_view_module_version": "1.2.0",
            "_view_name": "LayoutView",
            "align_content": null,
            "align_items": null,
            "align_self": null,
            "border": null,
            "bottom": null,
            "display": null,
            "flex": null,
            "flex_flow": null,
            "grid_area": null,
            "grid_auto_columns": null,
            "grid_auto_flow": null,
            "grid_auto_rows": null,
            "grid_column": null,
            "grid_gap": null,
            "grid_row": null,
            "grid_template_areas": null,
            "grid_template_columns": null,
            "grid_template_rows": null,
            "height": null,
            "justify_content": null,
            "justify_items": null,
            "left": null,
            "margin": null,
            "max_height": null,
            "max_width": null,
            "min_height": null,
            "min_width": null,
            "object_fit": null,
            "object_position": null,
            "order": null,
            "overflow": null,
            "overflow_x": null,
            "overflow_y": null,
            "padding": null,
            "right": null,
            "top": null,
            "visibility": null,
            "width": null
          }
        },
        "17c71c3af0e64edbbf07995465eda806": {
          "model_module": "@jupyter-widgets/controls",
          "model_name": "VBoxModel",
          "model_module_version": "1.5.0",
          "state": {
            "_dom_classes": [
              "widget-interact"
            ],
            "_model_module": "@jupyter-widgets/controls",
            "_model_module_version": "1.5.0",
            "_model_name": "VBoxModel",
            "_view_count": null,
            "_view_module": "@jupyter-widgets/controls",
            "_view_module_version": "1.5.0",
            "_view_name": "VBoxView",
            "box_style": "",
            "children": [
              "IPY_MODEL_a4374f2477a14e18ab7d3ca25ed9cc4e",
              "IPY_MODEL_dbd9eb696f6c48aa929d23d0b3465750",
              "IPY_MODEL_568b2c904ae54b7a995c724fe5a0111f"
            ],
            "layout": "IPY_MODEL_f56d781358384172ba2e37e49652e7e4"
          }
        },
        "a4374f2477a14e18ab7d3ca25ed9cc4e": {
          "model_module": "@jupyter-widgets/controls",
          "model_name": "CheckboxModel",
          "model_module_version": "1.5.0",
          "state": {
            "_dom_classes": [],
            "_model_module": "@jupyter-widgets/controls",
            "_model_module_version": "1.5.0",
            "_model_name": "CheckboxModel",
            "_view_count": null,
            "_view_module": "@jupyter-widgets/controls",
            "_view_module_version": "1.5.0",
            "_view_name": "CheckboxView",
            "description": "x",
            "description_tooltip": null,
            "disabled": false,
            "indent": true,
            "layout": "IPY_MODEL_570832a4300f495d817018ab2ab4b8dd",
            "style": "IPY_MODEL_9e22ab65e8cf43debdcb2b09feb8ab3b",
            "value": true
          }
        },
        "dbd9eb696f6c48aa929d23d0b3465750": {
          "model_module": "@jupyter-widgets/controls",
          "model_name": "FloatSliderModel",
          "model_module_version": "1.5.0",
          "state": {
            "_dom_classes": [],
            "_model_module": "@jupyter-widgets/controls",
            "_model_module_version": "1.5.0",
            "_model_name": "FloatSliderModel",
            "_view_count": null,
            "_view_module": "@jupyter-widgets/controls",
            "_view_module_version": "1.5.0",
            "_view_name": "FloatSliderView",
            "continuous_update": true,
            "description": "y",
            "description_tooltip": null,
            "disabled": false,
            "layout": "IPY_MODEL_d24ee0a939c1406ba6b3267656581efb",
            "max": 3,
            "min": -1,
            "orientation": "horizontal",
            "readout": true,
            "readout_format": ".2f",
            "step": 0.1,
            "style": "IPY_MODEL_6086a150f0b04cdd9a602c8cd5c74614",
            "value": 1.4
          }
        },
        "568b2c904ae54b7a995c724fe5a0111f": {
          "model_module": "@jupyter-widgets/output",
          "model_name": "OutputModel",
          "model_module_version": "1.0.0",
          "state": {
            "_dom_classes": [],
            "_model_module": "@jupyter-widgets/output",
            "_model_module_version": "1.0.0",
            "_model_name": "OutputModel",
            "_view_count": null,
            "_view_module": "@jupyter-widgets/output",
            "_view_module_version": "1.0.0",
            "_view_name": "OutputView",
            "layout": "IPY_MODEL_4443f53669f341d8a97633c5a1463c00",
            "msg_id": "",
            "outputs": [
              {
                "output_type": "display_data",
                "data": {
                  "text/plain": "(True, 1.4)"
                },
                "metadata": {}
              }
            ]
          }
        },
        "f56d781358384172ba2e37e49652e7e4": {
          "model_module": "@jupyter-widgets/base",
          "model_name": "LayoutModel",
          "model_module_version": "1.2.0",
          "state": {
            "_model_module": "@jupyter-widgets/base",
            "_model_module_version": "1.2.0",
            "_model_name": "LayoutModel",
            "_view_count": null,
            "_view_module": "@jupyter-widgets/base",
            "_view_module_version": "1.2.0",
            "_view_name": "LayoutView",
            "align_content": null,
            "align_items": null,
            "align_self": null,
            "border": null,
            "bottom": null,
            "display": null,
            "flex": null,
            "flex_flow": null,
            "grid_area": null,
            "grid_auto_columns": null,
            "grid_auto_flow": null,
            "grid_auto_rows": null,
            "grid_column": null,
            "grid_gap": null,
            "grid_row": null,
            "grid_template_areas": null,
            "grid_template_columns": null,
            "grid_template_rows": null,
            "height": null,
            "justify_content": null,
            "justify_items": null,
            "left": null,
            "margin": null,
            "max_height": null,
            "max_width": null,
            "min_height": null,
            "min_width": null,
            "object_fit": null,
            "object_position": null,
            "order": null,
            "overflow": null,
            "overflow_x": null,
            "overflow_y": null,
            "padding": null,
            "right": null,
            "top": null,
            "visibility": null,
            "width": null
          }
        },
        "570832a4300f495d817018ab2ab4b8dd": {
          "model_module": "@jupyter-widgets/base",
          "model_name": "LayoutModel",
          "model_module_version": "1.2.0",
          "state": {
            "_model_module": "@jupyter-widgets/base",
            "_model_module_version": "1.2.0",
            "_model_name": "LayoutModel",
            "_view_count": null,
            "_view_module": "@jupyter-widgets/base",
            "_view_module_version": "1.2.0",
            "_view_name": "LayoutView",
            "align_content": null,
            "align_items": null,
            "align_self": null,
            "border": null,
            "bottom": null,
            "display": null,
            "flex": null,
            "flex_flow": null,
            "grid_area": null,
            "grid_auto_columns": null,
            "grid_auto_flow": null,
            "grid_auto_rows": null,
            "grid_column": null,
            "grid_gap": null,
            "grid_row": null,
            "grid_template_areas": null,
            "grid_template_columns": null,
            "grid_template_rows": null,
            "height": null,
            "justify_content": null,
            "justify_items": null,
            "left": null,
            "margin": null,
            "max_height": null,
            "max_width": null,
            "min_height": null,
            "min_width": null,
            "object_fit": null,
            "object_position": null,
            "order": null,
            "overflow": null,
            "overflow_x": null,
            "overflow_y": null,
            "padding": null,
            "right": null,
            "top": null,
            "visibility": null,
            "width": null
          }
        },
        "9e22ab65e8cf43debdcb2b09feb8ab3b": {
          "model_module": "@jupyter-widgets/controls",
          "model_name": "DescriptionStyleModel",
          "model_module_version": "1.5.0",
          "state": {
            "_model_module": "@jupyter-widgets/controls",
            "_model_module_version": "1.5.0",
            "_model_name": "DescriptionStyleModel",
            "_view_count": null,
            "_view_module": "@jupyter-widgets/base",
            "_view_module_version": "1.2.0",
            "_view_name": "StyleView",
            "description_width": ""
          }
        },
        "d24ee0a939c1406ba6b3267656581efb": {
          "model_module": "@jupyter-widgets/base",
          "model_name": "LayoutModel",
          "model_module_version": "1.2.0",
          "state": {
            "_model_module": "@jupyter-widgets/base",
            "_model_module_version": "1.2.0",
            "_model_name": "LayoutModel",
            "_view_count": null,
            "_view_module": "@jupyter-widgets/base",
            "_view_module_version": "1.2.0",
            "_view_name": "LayoutView",
            "align_content": null,
            "align_items": null,
            "align_self": null,
            "border": null,
            "bottom": null,
            "display": null,
            "flex": null,
            "flex_flow": null,
            "grid_area": null,
            "grid_auto_columns": null,
            "grid_auto_flow": null,
            "grid_auto_rows": null,
            "grid_column": null,
            "grid_gap": null,
            "grid_row": null,
            "grid_template_areas": null,
            "grid_template_columns": null,
            "grid_template_rows": null,
            "height": null,
            "justify_content": null,
            "justify_items": null,
            "left": null,
            "margin": null,
            "max_height": null,
            "max_width": null,
            "min_height": null,
            "min_width": null,
            "object_fit": null,
            "object_position": null,
            "order": null,
            "overflow": null,
            "overflow_x": null,
            "overflow_y": null,
            "padding": null,
            "right": null,
            "top": null,
            "visibility": null,
            "width": null
          }
        },
        "6086a150f0b04cdd9a602c8cd5c74614": {
          "model_module": "@jupyter-widgets/controls",
          "model_name": "SliderStyleModel",
          "model_module_version": "1.5.0",
          "state": {
            "_model_module": "@jupyter-widgets/controls",
            "_model_module_version": "1.5.0",
            "_model_name": "SliderStyleModel",
            "_view_count": null,
            "_view_module": "@jupyter-widgets/base",
            "_view_module_version": "1.2.0",
            "_view_name": "StyleView",
            "description_width": "",
            "handle_color": null
          }
        },
        "4443f53669f341d8a97633c5a1463c00": {
          "model_module": "@jupyter-widgets/base",
          "model_name": "LayoutModel",
          "model_module_version": "1.2.0",
          "state": {
            "_model_module": "@jupyter-widgets/base",
            "_model_module_version": "1.2.0",
            "_model_name": "LayoutModel",
            "_view_count": null,
            "_view_module": "@jupyter-widgets/base",
            "_view_module_version": "1.2.0",
            "_view_name": "LayoutView",
            "align_content": null,
            "align_items": null,
            "align_self": null,
            "border": null,
            "bottom": null,
            "display": null,
            "flex": null,
            "flex_flow": null,
            "grid_area": null,
            "grid_auto_columns": null,
            "grid_auto_flow": null,
            "grid_auto_rows": null,
            "grid_column": null,
            "grid_gap": null,
            "grid_row": null,
            "grid_template_areas": null,
            "grid_template_columns": null,
            "grid_template_rows": null,
            "height": null,
            "justify_content": null,
            "justify_items": null,
            "left": null,
            "margin": null,
            "max_height": null,
            "max_width": null,
            "min_height": null,
            "min_width": null,
            "object_fit": null,
            "object_position": null,
            "order": null,
            "overflow": null,
            "overflow_x": null,
            "overflow_y": null,
            "padding": null,
            "right": null,
            "top": null,
            "visibility": null,
            "width": null
          }
        }
      }
    }
  },
  "cells": [
    {
      "cell_type": "code",
      "execution_count": 1,
      "metadata": {
        "colab": {
          "base_uri": "https://localhost:8080/"
        },
        "id": "ILV-6coU9Aqr",
        "outputId": "9e5d0ca9-71b1-4463-b4a1-4a505c1202d9"
      },
      "outputs": [
        {
          "output_type": "stream",
          "name": "stdout",
          "text": [
            "--2023-11-27 10:15:27--  https://archive.ics.uci.edu/static/public/222/bank+marketing.zip\n",
            "Resolving archive.ics.uci.edu (archive.ics.uci.edu)... 128.195.10.252\n",
            "Connecting to archive.ics.uci.edu (archive.ics.uci.edu)|128.195.10.252|:443... connected.\n",
            "HTTP request sent, awaiting response... 200 OK\n",
            "Length: unspecified\n",
            "Saving to: ‘bank+marketing.zip’\n",
            "\n",
            "bank+marketing.zip      [    <=>             ] 999.85K  1.07MB/s    in 0.9s    \n",
            "\n",
            "2023-11-27 10:15:29 (1.07 MB/s) - ‘bank+marketing.zip’ saved [1023843]\n",
            "\n"
          ]
        }
      ],
      "source": [
        "!wget https://archive.ics.uci.edu/static/public/222/bank+marketing.zip"
      ]
    },
    {
      "cell_type": "code",
      "source": [
        "!unzip bank+marketing.zip"
      ],
      "metadata": {
        "colab": {
          "base_uri": "https://localhost:8080/"
        },
        "id": "RbztC7AD9UJk",
        "outputId": "a7ec430c-9ae9-4df2-dcb7-bf5e5ea1dbf5"
      },
      "execution_count": 2,
      "outputs": [
        {
          "output_type": "stream",
          "name": "stdout",
          "text": [
            "Archive:  bank+marketing.zip\n",
            " extracting: bank.zip                \n",
            " extracting: bank-additional.zip     \n"
          ]
        }
      ]
    },
    {
      "cell_type": "code",
      "source": [
        "!unzip bank.zip\n"
      ],
      "metadata": {
        "colab": {
          "base_uri": "https://localhost:8080/"
        },
        "id": "jR_gFq2S9vb5",
        "outputId": "81c5c0ba-583e-40f3-b00e-5e726a2f9022"
      },
      "execution_count": 3,
      "outputs": [
        {
          "output_type": "stream",
          "name": "stdout",
          "text": [
            "Archive:  bank.zip\n",
            "  inflating: bank-full.csv           \n",
            "  inflating: bank-names.txt          \n",
            "  inflating: bank.csv                \n"
          ]
        }
      ]
    },
    {
      "cell_type": "code",
      "source": [
        "import csv\n",
        "\n",
        "def recode(row):\n",
        "  match row[1]:\n",
        "    case \"admin.\":\n",
        "      job = 1\n",
        "    case \"unknown\":\n",
        "      job = 2\n",
        "    case \"unemployed\":\n",
        "      job = 3\n",
        "    case \"management\":\n",
        "      job = 4\n",
        "    case \"housemaid\":\n",
        "      job = 5\n",
        "    case \"entrepreneur\":\n",
        "      job = 6\n",
        "    case \"student\":\n",
        "      job = 7\n",
        "    case \"blue-collar\":\n",
        "      job = 8\n",
        "    case \"self-employed\":\n",
        "      job = 9\n",
        "    case \"retired\":\n",
        "      job = 10\n",
        "    case \"technician\":\n",
        "      job = 11\n",
        "    case \"services\":\n",
        "      job = 12\n",
        "\n",
        "  if row[2] == 'divorced':\n",
        "    marital = -1\n",
        "  elif row[2] == 'married':\n",
        "    marital = +1\n",
        "  elif row[2] == 'single':\n",
        "    marital = 0\n",
        "\n",
        "  #print(row[3])\n",
        "  # categorical: \"unknown\",\"secondary\",\"primary\",\"tertiary\")\n",
        "  match row[3]:\n",
        "    case \"unknown\":\n",
        "      education = 0\n",
        "    case \"secondary\":\n",
        "      education = 2\n",
        "    case \"primary\":\n",
        "      education = 1\n",
        "    case \"tertiary\":\n",
        "      education = 3\n",
        "\n",
        "  #default – \"yes\" - 1,\"no\" - 0\n",
        "  if row[4] == \"yes\":\n",
        "    default = 1\n",
        "  else:\n",
        "    default = 0\n",
        "\n",
        "  #housing – \"yes\" - 1,\"no\" - 0\n",
        "  if row[6] == \"yes\":\n",
        "    housing = 1\n",
        "  else:\n",
        "    housing = 0\n",
        "\n",
        "  #loan – \"yes\" - 1,\"no\" - 0\n",
        "  if row[7] == \"yes\":\n",
        "    loan = 1\n",
        "  else:\n",
        "    loan = 0\n",
        "\n",
        "  if row[8] == \"unknown\":\n",
        "    contact = 0\n",
        "  elif row[8] == \"telephone\":# - 1, \"cellular\" - 2\n",
        "    contact = 1\n",
        "  elif row[8] == \"cellular\":\n",
        "    contact = 2\n",
        "\n",
        "  #row[10] #month – \"jan\" - 1, \"feb\" - 2, \"mar\" - 3, “apr” - 4, “may” - 5, “jun” - 6, “jul” - 7, “aug” - 8, “sep” - 9, “oct” - 10, \"nov\" - 11, \"dec\" - 12\n",
        "  match row[10]:\n",
        "    case \"jan\":\n",
        "      month = 1\n",
        "    case \"feb\":\n",
        "      month = 2\n",
        "    case \"mar\":\n",
        "      month = 3\n",
        "    case \"apr\":\n",
        "      month = 4\n",
        "    case \"may\":\n",
        "      month = 5\n",
        "    case \"jun\":\n",
        "      month = 6\n",
        "    case \"jul\":\n",
        "      month = 7\n",
        "    case \"aug\":\n",
        "      month = 8\n",
        "    case \"sep\":\n",
        "      month = 9\n",
        "    case \"oct\":\n",
        "      month = 10\n",
        "    case \"nov\":\n",
        "      month = 11\n",
        "    case \"dec\":\n",
        "      month = 12\n",
        "\n",
        "  match row[15]:\n",
        "    case \"unknown\":\n",
        "      poutcome = 0\n",
        "    case \"other\":\n",
        "      poutcome = 1\n",
        "    case \"failure\":\n",
        "      poutcome = -1\n",
        "    case \"success\":\n",
        "      poutcome = 2\n",
        "\n",
        "  if row[16] == \"yes\":\n",
        "    y = 1\n",
        "  else:\n",
        "    y = 0\n",
        "\n",
        "  #return [row[0], job, marital, education ]\n",
        "  return  [int(row[0]), job, marital, education, default, int(row[5]), housing, loan, contact, int(row[9]), month,\n",
        "         int(row[11]), int(row[12]), int(row[13]), int(row[14]), poutcome, y]\n",
        "\n",
        "numrows = 0\n",
        "recoded = [] # числовий масив даних\n",
        "\n",
        "with open('bank-full.csv', newline='') as csvfile:\n",
        "    data = csv.reader(csvfile, delimiter=\";\", quotechar='\"')\n",
        "    next(data)\n",
        "    for row in data:\n",
        "      #print(numrows)\n",
        "      res = recode(row)\n",
        "      recoded.append(res)\n",
        "      numrows += 1\n",
        "      #print(res)\n",
        "\n",
        "print(numrows)\n",
        "print(recoded[0])\n",
        "print(recoded[1])\n",
        "\n",
        "\n",
        "#f.close"
      ],
      "metadata": {
        "colab": {
          "base_uri": "https://localhost:8080/"
        },
        "id": "MXSwOnpX95Zc",
        "outputId": "395ef147-425f-49b4-d90f-1e2d76751cb7"
      },
      "execution_count": 4,
      "outputs": [
        {
          "output_type": "stream",
          "name": "stdout",
          "text": [
            "45211\n",
            "[58, 4, 1, 3, 0, 2143, 1, 0, 0, 5, 5, 261, 1, -1, 0, 0, 0]\n",
            "[44, 11, 0, 2, 0, 29, 1, 0, 0, 5, 5, 151, 1, -1, 0, 0, 0]\n"
          ]
        }
      ]
    },
    {
      "cell_type": "code",
      "source": [
        "f = open('bank.txt', 'w')\n",
        "for row in recoded:\n",
        "  for col in row:\n",
        "    f.write(str(col) + \"\\t\")\n",
        "  f.write(\"\\n\")\n",
        "f.close()"
      ],
      "metadata": {
        "id": "wUGB-VMF-0V9"
      },
      "execution_count": 5,
      "outputs": []
    },
    {
      "cell_type": "code",
      "source": [
        "print(recoded[45176])"
      ],
      "metadata": {
        "colab": {
          "base_uri": "https://localhost:8080/"
        },
        "id": "WSxziQhNIbFn",
        "outputId": "abadd69b-9ed9-43ed-e300-2c737a805b9c"
      },
      "execution_count": 6,
      "outputs": [
        {
          "output_type": "stream",
          "name": "stdout",
          "text": [
            "[54, 1, 1, 2, 0, 66, 1, 0, 2, 11, 11, 167, 1, -1, 0, 0, 1]\n"
          ]
        }
      ]
    },
    {
      "cell_type": "code",
      "source": [
        "print(recoded[45177])"
      ],
      "metadata": {
        "colab": {
          "base_uri": "https://localhost:8080/"
        },
        "id": "5iuhd6GEKxja",
        "outputId": "3f6875f7-ed7d-47a1-a855-c5642b0d81b2"
      },
      "execution_count": 7,
      "outputs": [
        {
          "output_type": "stream",
          "name": "stdout",
          "text": [
            "[36, 1, -1, 2, 0, 1224, 1, 0, 2, 12, 11, 482, 1, 374, 1, 2, 1]\n"
          ]
        }
      ]
    },
    {
      "cell_type": "code",
      "source": [
        "import numpy as np\n",
        "from sklearn.linear_model import LogisticRegression"
      ],
      "metadata": {
        "id": "Mi_NXYmcK0lF"
      },
      "execution_count": 8,
      "outputs": []
    },
    {
      "cell_type": "code",
      "source": [
        "data = np.array(recoded)"
      ],
      "metadata": {
        "id": "qjlQvio9XHvb"
      },
      "execution_count": 9,
      "outputs": []
    },
    {
      "cell_type": "code",
      "source": [
        "Y = data[:,-1]\n",
        "X = data[:,:-1]"
      ],
      "metadata": {
        "id": "81ewF8RSXL3i"
      },
      "execution_count": 10,
      "outputs": []
    },
    {
      "cell_type": "code",
      "source": [
        "X.shape"
      ],
      "metadata": {
        "colab": {
          "base_uri": "https://localhost:8080/"
        },
        "id": "ijUbXCy_XUyu",
        "outputId": "685a8b7c-29f3-4025-d93e-01b96e03ddeb"
      },
      "execution_count": 11,
      "outputs": [
        {
          "output_type": "execute_result",
          "data": {
            "text/plain": [
              "(45211, 16)"
            ]
          },
          "metadata": {},
          "execution_count": 11
        }
      ]
    },
    {
      "cell_type": "code",
      "source": [
        "Y.shape"
      ],
      "metadata": {
        "colab": {
          "base_uri": "https://localhost:8080/"
        },
        "id": "pEjF8H15XWWv",
        "outputId": "ff8bf3f4-7566-4d66-8a18-1c3703f39300"
      },
      "execution_count": 12,
      "outputs": [
        {
          "output_type": "execute_result",
          "data": {
            "text/plain": [
              "(45211,)"
            ]
          },
          "metadata": {},
          "execution_count": 12
        }
      ]
    },
    {
      "cell_type": "code",
      "source": [
        "logistic = LogisticRegression(max_iter=100000)"
      ],
      "metadata": {
        "id": "V0J4GCfwXaiY"
      },
      "execution_count": 13,
      "outputs": []
    },
    {
      "cell_type": "code",
      "source": [
        "logistic.fit(X, Y)"
      ],
      "metadata": {
        "colab": {
          "base_uri": "https://localhost:8080/",
          "height": 74
        },
        "id": "pzcj9C4eZpjw",
        "outputId": "e1312caf-f3bb-4087-d229-f9f294bf5021"
      },
      "execution_count": 14,
      "outputs": [
        {
          "output_type": "execute_result",
          "data": {
            "text/plain": [
              "LogisticRegression(max_iter=100000)"
            ],
            "text/html": [
              "<style>#sk-container-id-1 {color: black;background-color: white;}#sk-container-id-1 pre{padding: 0;}#sk-container-id-1 div.sk-toggleable {background-color: white;}#sk-container-id-1 label.sk-toggleable__label {cursor: pointer;display: block;width: 100%;margin-bottom: 0;padding: 0.3em;box-sizing: border-box;text-align: center;}#sk-container-id-1 label.sk-toggleable__label-arrow:before {content: \"▸\";float: left;margin-right: 0.25em;color: #696969;}#sk-container-id-1 label.sk-toggleable__label-arrow:hover:before {color: black;}#sk-container-id-1 div.sk-estimator:hover label.sk-toggleable__label-arrow:before {color: black;}#sk-container-id-1 div.sk-toggleable__content {max-height: 0;max-width: 0;overflow: hidden;text-align: left;background-color: #f0f8ff;}#sk-container-id-1 div.sk-toggleable__content pre {margin: 0.2em;color: black;border-radius: 0.25em;background-color: #f0f8ff;}#sk-container-id-1 input.sk-toggleable__control:checked~div.sk-toggleable__content {max-height: 200px;max-width: 100%;overflow: auto;}#sk-container-id-1 input.sk-toggleable__control:checked~label.sk-toggleable__label-arrow:before {content: \"▾\";}#sk-container-id-1 div.sk-estimator input.sk-toggleable__control:checked~label.sk-toggleable__label {background-color: #d4ebff;}#sk-container-id-1 div.sk-label input.sk-toggleable__control:checked~label.sk-toggleable__label {background-color: #d4ebff;}#sk-container-id-1 input.sk-hidden--visually {border: 0;clip: rect(1px 1px 1px 1px);clip: rect(1px, 1px, 1px, 1px);height: 1px;margin: -1px;overflow: hidden;padding: 0;position: absolute;width: 1px;}#sk-container-id-1 div.sk-estimator {font-family: monospace;background-color: #f0f8ff;border: 1px dotted black;border-radius: 0.25em;box-sizing: border-box;margin-bottom: 0.5em;}#sk-container-id-1 div.sk-estimator:hover {background-color: #d4ebff;}#sk-container-id-1 div.sk-parallel-item::after {content: \"\";width: 100%;border-bottom: 1px solid gray;flex-grow: 1;}#sk-container-id-1 div.sk-label:hover label.sk-toggleable__label {background-color: #d4ebff;}#sk-container-id-1 div.sk-serial::before {content: \"\";position: absolute;border-left: 1px solid gray;box-sizing: border-box;top: 0;bottom: 0;left: 50%;z-index: 0;}#sk-container-id-1 div.sk-serial {display: flex;flex-direction: column;align-items: center;background-color: white;padding-right: 0.2em;padding-left: 0.2em;position: relative;}#sk-container-id-1 div.sk-item {position: relative;z-index: 1;}#sk-container-id-1 div.sk-parallel {display: flex;align-items: stretch;justify-content: center;background-color: white;position: relative;}#sk-container-id-1 div.sk-item::before, #sk-container-id-1 div.sk-parallel-item::before {content: \"\";position: absolute;border-left: 1px solid gray;box-sizing: border-box;top: 0;bottom: 0;left: 50%;z-index: -1;}#sk-container-id-1 div.sk-parallel-item {display: flex;flex-direction: column;z-index: 1;position: relative;background-color: white;}#sk-container-id-1 div.sk-parallel-item:first-child::after {align-self: flex-end;width: 50%;}#sk-container-id-1 div.sk-parallel-item:last-child::after {align-self: flex-start;width: 50%;}#sk-container-id-1 div.sk-parallel-item:only-child::after {width: 0;}#sk-container-id-1 div.sk-dashed-wrapped {border: 1px dashed gray;margin: 0 0.4em 0.5em 0.4em;box-sizing: border-box;padding-bottom: 0.4em;background-color: white;}#sk-container-id-1 div.sk-label label {font-family: monospace;font-weight: bold;display: inline-block;line-height: 1.2em;}#sk-container-id-1 div.sk-label-container {text-align: center;}#sk-container-id-1 div.sk-container {/* jupyter's `normalize.less` sets `[hidden] { display: none; }` but bootstrap.min.css set `[hidden] { display: none !important; }` so we also need the `!important` here to be able to override the default hidden behavior on the sphinx rendered scikit-learn.org. See: https://github.com/scikit-learn/scikit-learn/issues/21755 */display: inline-block !important;position: relative;}#sk-container-id-1 div.sk-text-repr-fallback {display: none;}</style><div id=\"sk-container-id-1\" class=\"sk-top-container\"><div class=\"sk-text-repr-fallback\"><pre>LogisticRegression(max_iter=100000)</pre><b>In a Jupyter environment, please rerun this cell to show the HTML representation or trust the notebook. <br />On GitHub, the HTML representation is unable to render, please try loading this page with nbviewer.org.</b></div><div class=\"sk-container\" hidden><div class=\"sk-item\"><div class=\"sk-estimator sk-toggleable\"><input class=\"sk-toggleable__control sk-hidden--visually\" id=\"sk-estimator-id-1\" type=\"checkbox\" checked><label for=\"sk-estimator-id-1\" class=\"sk-toggleable__label sk-toggleable__label-arrow\">LogisticRegression</label><div class=\"sk-toggleable__content\"><pre>LogisticRegression(max_iter=100000)</pre></div></div></div></div></div>"
            ]
          },
          "metadata": {},
          "execution_count": 14
        }
      ]
    },
    {
      "cell_type": "code",
      "source": [
        "logistic.coef_"
      ],
      "metadata": {
        "colab": {
          "base_uri": "https://localhost:8080/"
        },
        "id": "7n99M24iZzwY",
        "outputId": "6acc9246-ca66-437a-886e-b29b209b662a"
      },
      "execution_count": 15,
      "outputs": [
        {
          "output_type": "execute_result",
          "data": {
            "text/plain": [
              "array([[ 5.68743899e-05, -1.95463451e-02, -1.73076875e-01,\n",
              "         1.02018169e-01, -2.49048351e-01,  1.94973339e-05,\n",
              "        -9.05402047e-01, -1.08521872e+00,  5.26218780e-01,\n",
              "        -7.06656001e-03, -1.50170575e-02,  3.93668197e-03,\n",
              "        -1.16242039e-01,  2.05697800e-03,  3.31683153e-02,\n",
              "         7.97910326e-01]])"
            ]
          },
          "metadata": {},
          "execution_count": 15
        }
      ]
    },
    {
      "cell_type": "code",
      "source": [
        "logistic.intercept_"
      ],
      "metadata": {
        "colab": {
          "base_uri": "https://localhost:8080/"
        },
        "id": "JOZVt47CbPkx",
        "outputId": "2190ff0d-3f42-4904-9e0d-ea05dea4884f"
      },
      "execution_count": 16,
      "outputs": [
        {
          "output_type": "execute_result",
          "data": {
            "text/plain": [
              "array([-3.36648107])"
            ]
          },
          "metadata": {},
          "execution_count": 16
        }
      ]
    },
    {
      "cell_type": "code",
      "source": [
        "from sklearn.model_selection import train_test_split\n",
        "\n",
        "X_train_full, X_test, y_train_full, y_test = train_test_split(X, Y, random_state=42)\n",
        "X_train, X_valid, y_train, y_valid = train_test_split(X_train_full, y_train_full, random_state=42)"
      ],
      "metadata": {
        "id": "AWGgEKn_b7aZ"
      },
      "execution_count": 17,
      "outputs": []
    },
    {
      "cell_type": "code",
      "source": [
        "X_train_full.shape"
      ],
      "metadata": {
        "colab": {
          "base_uri": "https://localhost:8080/"
        },
        "id": "5rzPzypPSPnK",
        "outputId": "b5107042-f944-4095-df34-3c50031be1d1"
      },
      "execution_count": 18,
      "outputs": [
        {
          "output_type": "execute_result",
          "data": {
            "text/plain": [
              "(33908, 16)"
            ]
          },
          "metadata": {},
          "execution_count": 18
        }
      ]
    },
    {
      "cell_type": "code",
      "source": [
        "X_test.shape"
      ],
      "metadata": {
        "colab": {
          "base_uri": "https://localhost:8080/"
        },
        "id": "ej3LZtgpSSfJ",
        "outputId": "de5d8e4f-f643-40f1-c21d-5fd4ab173174"
      },
      "execution_count": 19,
      "outputs": [
        {
          "output_type": "execute_result",
          "data": {
            "text/plain": [
              "(11303, 16)"
            ]
          },
          "metadata": {},
          "execution_count": 19
        }
      ]
    },
    {
      "cell_type": "code",
      "source": [
        "X_train.shape"
      ],
      "metadata": {
        "colab": {
          "base_uri": "https://localhost:8080/"
        },
        "id": "UTiyDnrQSYN9",
        "outputId": "c2dd162b-8936-4ebb-be6e-cbde253822c9"
      },
      "execution_count": 20,
      "outputs": [
        {
          "output_type": "execute_result",
          "data": {
            "text/plain": [
              "(25431, 16)"
            ]
          },
          "metadata": {},
          "execution_count": 20
        }
      ]
    },
    {
      "cell_type": "code",
      "source": [
        "X_valid.shape"
      ],
      "metadata": {
        "colab": {
          "base_uri": "https://localhost:8080/"
        },
        "id": "jNsclJslSjiT",
        "outputId": "e660d49a-ee5d-46c4-80b6-7b17608edef9"
      },
      "execution_count": 21,
      "outputs": [
        {
          "output_type": "execute_result",
          "data": {
            "text/plain": [
              "(8477, 16)"
            ]
          },
          "metadata": {},
          "execution_count": 21
        }
      ]
    },
    {
      "cell_type": "code",
      "source": [
        "from sklearn.neural_network import MLPRegressor\n",
        "\n",
        "mlp_reg = MLPRegressor(hidden_layer_sizes=[24, 8], activation='logistic', random_state=42)"
      ],
      "metadata": {
        "id": "qZTucu9aSl8f"
      },
      "execution_count": 62,
      "outputs": []
    },
    {
      "cell_type": "code",
      "source": [
        "from sklearn.pipeline import make_pipeline\n",
        "from sklearn.preprocessing import StandardScaler # (x-ave)/stdev\n",
        "\n",
        "pipeline = make_pipeline(StandardScaler(), mlp_reg)"
      ],
      "metadata": {
        "id": "xhj61TfYS7ch"
      },
      "execution_count": 63,
      "outputs": []
    },
    {
      "cell_type": "code",
      "source": [
        "pipeline.fit(X_train, y_train)"
      ],
      "metadata": {
        "colab": {
          "base_uri": "https://localhost:8080/",
          "height": 125
        },
        "id": "fuWIItZQS9j-",
        "outputId": "74ae1384-8079-4b30-af05-59641ea32c54"
      },
      "execution_count": 64,
      "outputs": [
        {
          "output_type": "execute_result",
          "data": {
            "text/plain": [
              "Pipeline(steps=[('standardscaler', StandardScaler()),\n",
              "                ('mlpregressor',\n",
              "                 MLPRegressor(activation='logistic', hidden_layer_sizes=[24, 8],\n",
              "                              random_state=42))])"
            ],
            "text/html": [
              "<style>#sk-container-id-3 {color: black;background-color: white;}#sk-container-id-3 pre{padding: 0;}#sk-container-id-3 div.sk-toggleable {background-color: white;}#sk-container-id-3 label.sk-toggleable__label {cursor: pointer;display: block;width: 100%;margin-bottom: 0;padding: 0.3em;box-sizing: border-box;text-align: center;}#sk-container-id-3 label.sk-toggleable__label-arrow:before {content: \"▸\";float: left;margin-right: 0.25em;color: #696969;}#sk-container-id-3 label.sk-toggleable__label-arrow:hover:before {color: black;}#sk-container-id-3 div.sk-estimator:hover label.sk-toggleable__label-arrow:before {color: black;}#sk-container-id-3 div.sk-toggleable__content {max-height: 0;max-width: 0;overflow: hidden;text-align: left;background-color: #f0f8ff;}#sk-container-id-3 div.sk-toggleable__content pre {margin: 0.2em;color: black;border-radius: 0.25em;background-color: #f0f8ff;}#sk-container-id-3 input.sk-toggleable__control:checked~div.sk-toggleable__content {max-height: 200px;max-width: 100%;overflow: auto;}#sk-container-id-3 input.sk-toggleable__control:checked~label.sk-toggleable__label-arrow:before {content: \"▾\";}#sk-container-id-3 div.sk-estimator input.sk-toggleable__control:checked~label.sk-toggleable__label {background-color: #d4ebff;}#sk-container-id-3 div.sk-label input.sk-toggleable__control:checked~label.sk-toggleable__label {background-color: #d4ebff;}#sk-container-id-3 input.sk-hidden--visually {border: 0;clip: rect(1px 1px 1px 1px);clip: rect(1px, 1px, 1px, 1px);height: 1px;margin: -1px;overflow: hidden;padding: 0;position: absolute;width: 1px;}#sk-container-id-3 div.sk-estimator {font-family: monospace;background-color: #f0f8ff;border: 1px dotted black;border-radius: 0.25em;box-sizing: border-box;margin-bottom: 0.5em;}#sk-container-id-3 div.sk-estimator:hover {background-color: #d4ebff;}#sk-container-id-3 div.sk-parallel-item::after {content: \"\";width: 100%;border-bottom: 1px solid gray;flex-grow: 1;}#sk-container-id-3 div.sk-label:hover label.sk-toggleable__label {background-color: #d4ebff;}#sk-container-id-3 div.sk-serial::before {content: \"\";position: absolute;border-left: 1px solid gray;box-sizing: border-box;top: 0;bottom: 0;left: 50%;z-index: 0;}#sk-container-id-3 div.sk-serial {display: flex;flex-direction: column;align-items: center;background-color: white;padding-right: 0.2em;padding-left: 0.2em;position: relative;}#sk-container-id-3 div.sk-item {position: relative;z-index: 1;}#sk-container-id-3 div.sk-parallel {display: flex;align-items: stretch;justify-content: center;background-color: white;position: relative;}#sk-container-id-3 div.sk-item::before, #sk-container-id-3 div.sk-parallel-item::before {content: \"\";position: absolute;border-left: 1px solid gray;box-sizing: border-box;top: 0;bottom: 0;left: 50%;z-index: -1;}#sk-container-id-3 div.sk-parallel-item {display: flex;flex-direction: column;z-index: 1;position: relative;background-color: white;}#sk-container-id-3 div.sk-parallel-item:first-child::after {align-self: flex-end;width: 50%;}#sk-container-id-3 div.sk-parallel-item:last-child::after {align-self: flex-start;width: 50%;}#sk-container-id-3 div.sk-parallel-item:only-child::after {width: 0;}#sk-container-id-3 div.sk-dashed-wrapped {border: 1px dashed gray;margin: 0 0.4em 0.5em 0.4em;box-sizing: border-box;padding-bottom: 0.4em;background-color: white;}#sk-container-id-3 div.sk-label label {font-family: monospace;font-weight: bold;display: inline-block;line-height: 1.2em;}#sk-container-id-3 div.sk-label-container {text-align: center;}#sk-container-id-3 div.sk-container {/* jupyter's `normalize.less` sets `[hidden] { display: none; }` but bootstrap.min.css set `[hidden] { display: none !important; }` so we also need the `!important` here to be able to override the default hidden behavior on the sphinx rendered scikit-learn.org. See: https://github.com/scikit-learn/scikit-learn/issues/21755 */display: inline-block !important;position: relative;}#sk-container-id-3 div.sk-text-repr-fallback {display: none;}</style><div id=\"sk-container-id-3\" class=\"sk-top-container\"><div class=\"sk-text-repr-fallback\"><pre>Pipeline(steps=[(&#x27;standardscaler&#x27;, StandardScaler()),\n",
              "                (&#x27;mlpregressor&#x27;,\n",
              "                 MLPRegressor(activation=&#x27;logistic&#x27;, hidden_layer_sizes=[24, 8],\n",
              "                              random_state=42))])</pre><b>In a Jupyter environment, please rerun this cell to show the HTML representation or trust the notebook. <br />On GitHub, the HTML representation is unable to render, please try loading this page with nbviewer.org.</b></div><div class=\"sk-container\" hidden><div class=\"sk-item sk-dashed-wrapped\"><div class=\"sk-label-container\"><div class=\"sk-label sk-toggleable\"><input class=\"sk-toggleable__control sk-hidden--visually\" id=\"sk-estimator-id-5\" type=\"checkbox\" ><label for=\"sk-estimator-id-5\" class=\"sk-toggleable__label sk-toggleable__label-arrow\">Pipeline</label><div class=\"sk-toggleable__content\"><pre>Pipeline(steps=[(&#x27;standardscaler&#x27;, StandardScaler()),\n",
              "                (&#x27;mlpregressor&#x27;,\n",
              "                 MLPRegressor(activation=&#x27;logistic&#x27;, hidden_layer_sizes=[24, 8],\n",
              "                              random_state=42))])</pre></div></div></div><div class=\"sk-serial\"><div class=\"sk-item\"><div class=\"sk-estimator sk-toggleable\"><input class=\"sk-toggleable__control sk-hidden--visually\" id=\"sk-estimator-id-6\" type=\"checkbox\" ><label for=\"sk-estimator-id-6\" class=\"sk-toggleable__label sk-toggleable__label-arrow\">StandardScaler</label><div class=\"sk-toggleable__content\"><pre>StandardScaler()</pre></div></div></div><div class=\"sk-item\"><div class=\"sk-estimator sk-toggleable\"><input class=\"sk-toggleable__control sk-hidden--visually\" id=\"sk-estimator-id-7\" type=\"checkbox\" ><label for=\"sk-estimator-id-7\" class=\"sk-toggleable__label sk-toggleable__label-arrow\">MLPRegressor</label><div class=\"sk-toggleable__content\"><pre>MLPRegressor(activation=&#x27;logistic&#x27;, hidden_layer_sizes=[24, 8], random_state=42)</pre></div></div></div></div></div></div></div>"
            ]
          },
          "metadata": {},
          "execution_count": 64
        }
      ]
    },
    {
      "cell_type": "code",
      "source": [
        "y_pred = pipeline.predict(X_valid)"
      ],
      "metadata": {
        "id": "LxIl3xgZTzGo"
      },
      "execution_count": 65,
      "outputs": []
    },
    {
      "cell_type": "code",
      "source": [
        "y_pred"
      ],
      "metadata": {
        "colab": {
          "base_uri": "https://localhost:8080/"
        },
        "id": "dgI5BP-LVz7t",
        "outputId": "fda28bad-a01b-442a-adfe-ced1650259a8"
      },
      "execution_count": 66,
      "outputs": [
        {
          "output_type": "execute_result",
          "data": {
            "text/plain": [
              "array([ 0.15542785,  0.46826869,  0.37071697, ...,  0.42886901,\n",
              "       -0.00864353,  0.01010677])"
            ]
          },
          "metadata": {},
          "execution_count": 66
        }
      ]
    },
    {
      "cell_type": "code",
      "source": [
        "from sklearn.metrics import mean_squared_error\n",
        "rmse = mean_squared_error(y_valid, y_pred, squared=False) # about 0.505"
      ],
      "metadata": {
        "id": "cUYGnV3-V1fO"
      },
      "execution_count": 67,
      "outputs": []
    },
    {
      "cell_type": "code",
      "source": [
        "rmse"
      ],
      "metadata": {
        "colab": {
          "base_uri": "https://localhost:8080/"
        },
        "id": "P7F-xUNUV57h",
        "outputId": "c9ac41cc-5916-4a61-e1e8-51543df661a4"
      },
      "execution_count": 68,
      "outputs": [
        {
          "output_type": "execute_result",
          "data": {
            "text/plain": [
              "0.26645689463584166"
            ]
          },
          "metadata": {},
          "execution_count": 68
        }
      ]
    },
    {
      "cell_type": "code",
      "source": [
        "y_hat_prob = pipeline.predict(X)"
      ],
      "metadata": {
        "id": "ZrRst2FiWALr"
      },
      "execution_count": 69,
      "outputs": []
    },
    {
      "cell_type": "code",
      "source": [
        "y_hat_prob"
      ],
      "metadata": {
        "colab": {
          "base_uri": "https://localhost:8080/"
        },
        "id": "nKEqFjHGWP1X",
        "outputId": "747cd547-25db-456f-81f5-1e262d8b36db"
      },
      "execution_count": 70,
      "outputs": [
        {
          "output_type": "execute_result",
          "data": {
            "text/plain": [
              "array([ 0.019308  , -0.00255851,  0.00109241, ...,  0.89611941,\n",
              "        0.25170074,  0.59680763])"
            ]
          },
          "metadata": {},
          "execution_count": 70
        }
      ]
    },
    {
      "cell_type": "code",
      "source": [
        "y_hat = []\n",
        "\n",
        "for element in y_hat_prob:\n",
        "  if element>=0.5:\n",
        "    y_hat.append(1)\n",
        "  else:\n",
        "    y_hat.append(0)\n",
        "\n",
        "#y_hat"
      ],
      "metadata": {
        "id": "J1Puh8leWR8G"
      },
      "execution_count": 71,
      "outputs": []
    },
    {
      "cell_type": "code",
      "source": [
        "total = len(y_hat)\n",
        "error = 0\n",
        "fpos = 0\n",
        "fneg = 0\n",
        "\n",
        "for i in range(total):\n",
        "  if Y[i] != y_hat[i]:\n",
        "    error+=1\n",
        "  if Y[i] == 0 and y_hat[i] == 1:\n",
        "    fpos+=1\n",
        "  if Y[i] == 1 and y_hat[i] == 0:\n",
        "    fneg+=1\n",
        "\n",
        "print(\"Відсоток помилок = \", 100.*error/total, \", false positive = \", 100.*fpos/total, \", false negative = \", 100.*fneg/total)\n"
      ],
      "metadata": {
        "colab": {
          "base_uri": "https://localhost:8080/"
        },
        "id": "sN0eyJ6SWsGL",
        "outputId": "95456d51-7b36-40e0-f3e3-ee1857e2fde2"
      },
      "execution_count": 72,
      "outputs": [
        {
          "output_type": "stream",
          "name": "stdout",
          "text": [
            "Відсоток помилок =  9.940058835239212 , false positive =  2.229545906969543 , false negative =  7.710512928269669\n"
          ]
        }
      ]
    },
    {
      "cell_type": "code",
      "source": [
        "mlp_reg.coefs_"
      ],
      "metadata": {
        "colab": {
          "base_uri": "https://localhost:8080/"
        },
        "id": "1e1UgLECW6Gh",
        "outputId": "38efa87c-bd27-4f56-87f5-961274e3cf3b"
      },
      "execution_count": 73,
      "outputs": [
        {
          "output_type": "execute_result",
          "data": {
            "text/plain": [
              "[array([[ 2.58976502e-02,  1.07201247e-01,  1.11860712e-01,\n",
              "         -1.77605470e-01, -2.41271261e-02, -2.38226359e-01,\n",
              "         -1.78955322e-02,  3.72813669e-02,  1.06221947e-01,\n",
              "         -8.37157051e-02, -4.04534946e-01,  2.29844589e-01,\n",
              "         -6.50785519e-02,  5.43725062e-02, -1.57433735e-01,\n",
              "         -4.12842836e-02, -1.04560093e+00,  4.91346413e-02,\n",
              "          9.38979490e-02, -1.72100366e-01,  9.95011744e-02,\n",
              "         -5.78566225e-02,  4.15472587e-02,  3.41096965e-03],\n",
              "        [-4.29997209e-02,  1.75512156e-01, -8.81359347e-02,\n",
              "          3.56084157e-02,  1.25309840e-01, -2.28627196e-01,\n",
              "          1.45774321e-02,  2.78071859e-02, -1.37943062e-01,\n",
              "          1.28275838e-01,  1.66671773e-01, -1.48463329e-01,\n",
              "         -6.46858477e-02, -7.69510788e-02,  3.68643730e-02,\n",
              "          3.75836065e-02, -2.70052871e-01, -2.58849160e-02,\n",
              "         -1.41623118e-01,  7.42236911e-02, -8.24492201e-02,\n",
              "         -1.30016806e-02, -1.18149452e-02, -3.52064223e-02],\n",
              "        [ 1.67933865e-01, -7.76539304e-02,  1.78917087e-01,\n",
              "          3.58406984e-01,  2.76327107e-01,  9.13833624e-03,\n",
              "          2.55481202e-01, -1.11864310e-02, -3.74343462e-03,\n",
              "         -1.70249244e-02, -3.62669797e-01,  6.11008184e-02,\n",
              "          3.84938634e-02,  6.49088233e-02,  7.41580649e-02,\n",
              "         -1.87549098e-01, -2.20245327e-02,  1.70914820e-01,\n",
              "         -2.42982956e-01, -9.86234654e-03,  2.49251457e-02,\n",
              "          7.48779647e-02,  4.08935584e-02,  1.67774108e-01],\n",
              "        [-4.00792669e-02,  1.55568839e-01,  2.81761529e-01,\n",
              "          2.44352300e-02,  6.01412750e-03, -3.09462834e-01,\n",
              "         -1.49952042e-01,  4.86152179e-02,  2.27641916e-01,\n",
              "          2.45990216e-02, -6.10695955e-02,  1.98280988e-01,\n",
              "         -3.77974247e-02, -1.87949249e-01,  4.63287228e-02,\n",
              "         -4.25294838e-02,  1.33278124e-01, -5.84908114e-02,\n",
              "         -1.13395989e-02,  1.28623877e-01,  2.50321883e-01,\n",
              "         -1.07340441e-01,  1.34585543e-01,  5.86818649e-02],\n",
              "        [-1.08576709e-01,  4.02819410e-02, -1.09172325e-01,\n",
              "         -3.71260864e-01, -3.11406248e-01,  4.91236292e-02,\n",
              "         -1.41701876e-01, -3.67544178e-02,  2.77565412e-01,\n",
              "         -1.40528536e-01,  1.66082611e-02,  4.93029293e-01,\n",
              "          2.95289270e-03, -1.77809642e-01,  5.83716502e-03,\n",
              "         -1.15981173e-01,  6.76959405e-02, -7.30173794e-02,\n",
              "          4.75932739e-02,  2.84097309e-02,  6.20585627e-02,\n",
              "          4.38856081e-02,  6.85639302e-02,  2.93121947e-02],\n",
              "        [ 2.23029058e-01,  5.22890196e-02, -7.73522592e-02,\n",
              "          1.05127493e-02, -1.33682035e-01,  3.90116316e-02,\n",
              "          1.30118265e-01,  3.25441442e-02, -7.16034719e-02,\n",
              "         -1.22933641e-04,  4.41084391e-02, -5.12714677e-02,\n",
              "         -1.34890983e-01, -6.07509235e-02,  5.34140815e-02,\n",
              "         -3.47761054e-03, -2.08763553e-01,  4.08286154e-01,\n",
              "          3.64453841e-03,  5.64464481e-02,  5.04362462e-01,\n",
              "         -6.86125929e-03,  2.05430321e-02, -4.70101632e-02],\n",
              "        [-2.79092058e-01, -7.43867304e-02, -1.66078338e-01,\n",
              "          3.74272662e-01, -1.56388491e-01, -8.05094036e-03,\n",
              "          1.74548026e-01, -5.46564348e-01, -3.52669758e-01,\n",
              "          5.73222825e-02,  3.96639460e-01, -9.51485606e-01,\n",
              "         -1.64798728e-01, -1.08843083e-01,  6.68361198e-02,\n",
              "          1.85931716e-01,  2.40588200e-01,  8.47126316e-02,\n",
              "         -2.78333594e-01,  2.65598291e-01, -4.30703782e-01,\n",
              "          6.03000670e-01, -4.06743985e-01, -4.57451555e-01],\n",
              "        [-3.98923594e-01,  2.19026521e-01,  7.59820670e-02,\n",
              "         -7.55748727e-01,  3.63076684e-02, -6.54369187e-02,\n",
              "         -3.88953290e-02, -4.68485819e-01, -2.29657899e-02,\n",
              "          1.36191387e-02,  2.80656330e-01,  8.84913724e-02,\n",
              "         -1.02934857e-01, -4.11872705e-01,  3.05943582e-01,\n",
              "          3.03135524e-01,  2.15651840e-01,  6.63491512e-02,\n",
              "          4.08552036e-02,  2.61814477e-01, -1.84383532e-01,\n",
              "          2.88029699e-01, -4.51398218e-01,  1.86252685e-01],\n",
              "        [ 3.25905370e-01,  1.88018508e-01,  8.45844768e-02,\n",
              "         -3.83391578e-01, -1.29885644e-01,  2.48256057e-01,\n",
              "         -6.04345839e-01,  5.70810307e-01,  2.91183419e-01,\n",
              "         -6.48061719e-02,  1.01175537e-01,  1.34228831e+00,\n",
              "          4.88303425e-01, -7.97322165e-01, -1.20538752e-01,\n",
              "          1.47755348e-01, -5.39636605e-01, -6.58692434e-01,\n",
              "          3.28912987e-01,  2.02156610e-01,  3.85552240e-01,\n",
              "         -6.44885555e-01,  3.57156464e-01, -4.26249251e-01],\n",
              "        [ 4.34428537e-02,  2.18900036e-01,  5.78014253e-02,\n",
              "          1.90695227e-01,  4.07756231e-01,  1.38658599e-02,\n",
              "         -1.90430932e-01, -3.59898119e-02,  5.35540641e-02,\n",
              "         -2.67439808e-01,  1.67966763e-01,  3.98179434e-01,\n",
              "          1.82292713e-01, -4.69934690e-02,  3.54196281e-02,\n",
              "         -2.87164655e-02, -1.80476572e-02, -8.01287053e-02,\n",
              "          9.43599158e-03,  1.25326454e-02, -6.31139522e-02,\n",
              "         -6.86760716e-02,  1.17975359e-02,  1.18532127e-01],\n",
              "        [ 4.09232044e-01,  2.17244569e-01,  3.91725172e-01,\n",
              "          2.45524055e-02, -2.68932319e-01, -3.27179766e-02,\n",
              "         -2.15748193e-02,  9.53755440e-02,  3.40878768e-01,\n",
              "          1.94681575e-01, -1.38507996e-01,  8.89303871e-01,\n",
              "          1.98585363e-01,  3.40842716e-02, -1.57532996e-01,\n",
              "         -3.58695764e-02,  3.71548780e-01,  4.21468647e-02,\n",
              "          1.34494056e-01, -2.77785936e-01,  2.86402702e-01,\n",
              "          1.65705374e-01, -9.36943779e-02,  7.19788688e-01],\n",
              "        [ 7.95407866e-01, -3.33887988e-02,  6.42791200e-01,\n",
              "          3.58691586e-02, -2.05448657e-01, -4.60461427e-01,\n",
              "          4.05752610e-01,  1.33182696e+00,  5.84878606e-01,\n",
              "          1.42473464e-01, -1.00566246e-01,  1.96751009e-02,\n",
              "          1.60496906e-01,  5.91604885e-01, -6.39122354e-01,\n",
              "         -7.70503202e-02, -2.60637923e-02, -7.19293217e-03,\n",
              "          3.61864158e-01, -9.88496114e-01,  4.77795565e-01,\n",
              "         -1.17361957e+00,  9.31268863e-01,  2.03334384e-01],\n",
              "        [-5.64217634e-01,  1.09779578e-01, -8.87056098e-01,\n",
              "         -4.33376847e-01,  6.47595028e-02,  5.81028106e-02,\n",
              "         -4.19714038e-01, -4.26667271e-01, -1.65567232e-01,\n",
              "         -3.52663760e-01,  9.34814496e-02,  2.80178532e-02,\n",
              "         -3.72738016e-01, -2.16843328e-01,  1.21908338e-01,\n",
              "         -6.09446424e-03,  2.13475674e-01, -1.62427827e-01,\n",
              "         -3.31097688e-03,  1.29558250e-01, -6.07380128e-02,\n",
              "          2.40538905e-01, -3.04343111e-01, -1.48261836e-01],\n",
              "        [-9.16681064e-02,  8.33513778e-01,  9.81938846e-02,\n",
              "         -2.21814310e-01, -7.52115800e-02, -1.64558478e-01,\n",
              "         -3.49633966e-01,  1.69955322e-01,  1.21972232e-01,\n",
              "          6.12928692e-01,  7.78174367e-01, -5.90883627e-01,\n",
              "          1.14891258e+00,  9.04859001e-02, -3.42249086e-02,\n",
              "          5.15145898e-01, -2.68390988e-01, -1.05341700e-01,\n",
              "         -1.03284549e-01,  1.11156892e-02,  5.29777874e-02,\n",
              "         -2.08513385e-01, -4.03898498e-02, -1.17831928e+00],\n",
              "        [ 2.00616620e-01,  2.51937707e-01,  3.42989298e-03,\n",
              "         -1.28546737e+00, -7.61699274e-02,  2.18753852e-02,\n",
              "         -2.27234767e-01,  8.89261074e-02, -5.42729685e-03,\n",
              "          2.99411318e-01,  9.42821873e-01, -4.34165280e-01,\n",
              "          3.79939595e-01,  1.33688246e-01,  6.31897704e-02,\n",
              "          1.12599868e+00, -2.03677599e-01, -2.51407091e-01,\n",
              "         -1.77164190e-01,  3.62614842e-02, -1.09978657e-02,\n",
              "          9.93206554e-03,  2.99096577e-01, -7.27337929e-01],\n",
              "        [-1.85032880e-02, -5.02875479e-01, -2.06095716e-02,\n",
              "         -3.84152952e-02, -2.14054057e-01, -1.10789991e-01,\n",
              "         -7.15648797e-02,  1.48620741e-01, -2.42617813e-02,\n",
              "         -6.60228622e-01,  1.01754422e-01,  3.49024850e-01,\n",
              "         -9.73006312e-01, -8.52401241e-02, -2.01851573e-01,\n",
              "         -1.92410167e-02,  4.09166824e-01, -4.83014504e-01,\n",
              "          4.23256201e-01, -3.19494025e-01,  4.11350554e-02,\n",
              "         -1.36041683e-01,  1.45853550e-01, -9.61511579e-02]]),\n",
              " array([[ 0.50265587, -0.12779934, -0.14933038,  0.21815089,  0.28403257,\n",
              "         -0.07299335,  0.1303951 ,  0.01543236],\n",
              "        [-0.36855448, -0.06482164,  0.08375707,  0.07065711,  0.17746919,\n",
              "          0.24448558, -0.25914492, -0.14786897],\n",
              "        [ 0.04898618,  0.13587476, -0.13564718,  0.22246648,  0.02846733,\n",
              "         -0.30653778, -0.09219108,  0.17656054],\n",
              "        [-0.42953263, -0.22847614, -0.27989987,  0.01868815, -0.2244295 ,\n",
              "          0.32704665,  0.00161524, -0.41426647],\n",
              "        [-0.23413258,  0.33682805, -0.15594622, -0.05340985,  0.26700131,\n",
              "          0.2070805 ,  0.28211235,  0.07515625],\n",
              "        [-0.44047065, -0.13510192,  0.05166952,  0.06713968,  0.06061975,\n",
              "          0.28612186, -0.19664062, -0.10966575],\n",
              "        [-0.18326918,  0.08336171, -0.36529401, -0.17426028, -0.09451424,\n",
              "          0.026943  ,  0.16550163,  0.01632494],\n",
              "        [ 0.90760203,  0.20365673, -0.32290152,  0.36914671,  0.10760014,\n",
              "         -0.09380087,  0.02625063,  0.50947702],\n",
              "        [ 0.07260917,  0.2529959 ,  0.00240543,  0.21831152, -0.16673734,\n",
              "         -0.0645703 ,  0.28545306,  0.03520753],\n",
              "        [-0.33596351,  0.08835118, -0.07351665, -0.02232846,  0.02374661,\n",
              "          0.35735523, -0.32786729, -0.29726838],\n",
              "        [ 0.32240615,  0.32172666, -0.12110956,  0.09299269,  0.0176029 ,\n",
              "         -0.22340395,  0.04582864, -0.07226809],\n",
              "        [ 0.30238   , -0.10990626,  0.22298563,  0.29492387,  0.22687503,\n",
              "         -0.10538152,  0.01204032,  0.22426241],\n",
              "        [-0.35425721, -0.29925617,  0.32387222, -0.04457999,  0.08668058,\n",
              "          0.34961305, -0.14355203, -0.32122768],\n",
              "        [ 0.31010201,  0.27633324, -0.35940986, -0.24712614,  0.02011664,\n",
              "          0.10650735,  0.28359039, -0.19691045],\n",
              "        [-0.36913474,  0.04082175,  0.11268539,  0.21656187,  0.29854028,\n",
              "          0.06893861, -0.03896042, -0.22575514],\n",
              "        [-0.109231  ,  0.28691689,  0.07853052,  0.25944367,  0.35031642,\n",
              "         -0.02623276,  0.18156495,  0.20627786],\n",
              "        [ 0.33166926,  0.07331752, -0.25232353, -0.04188648,  0.43883186,\n",
              "         -0.08637673,  0.0146324 ,  0.16338623],\n",
              "        [-0.12526738,  0.03678279, -0.35823438,  0.11340134,  0.12542507,\n",
              "          0.15193078,  0.03881492,  0.09940312],\n",
              "        [ 0.1520741 ,  0.00696933,  0.23056245, -0.14529479, -0.19815873,\n",
              "         -0.24459907,  0.09122832, -0.00863239],\n",
              "        [-0.60991163, -0.17233672, -0.17914279, -0.32517678, -0.07333288,\n",
              "          0.2842466 , -0.187377  , -0.29696416],\n",
              "        [ 0.4019117 , -0.07231899,  0.03843418,  0.06079876, -0.05583215,\n",
              "          0.01586609,  0.178024  ,  0.19563105],\n",
              "        [-1.14188624,  0.08822586,  0.03253309, -0.27977325, -0.0996039 ,\n",
              "          0.59091853, -0.24389031, -0.47784303],\n",
              "        [ 0.38790299, -0.07551584, -0.23745574, -0.21738688, -0.14733954,\n",
              "         -0.27822909, -0.13290614,  0.11022898],\n",
              "        [-0.68189476, -0.25255819,  0.31618285, -0.22191175, -0.06859026,\n",
              "          0.09505837, -0.37998886, -0.53758509]]),\n",
              " array([[ 0.31412862],\n",
              "        [ 0.29213696],\n",
              "        [-0.41179792],\n",
              "        [ 0.3869625 ],\n",
              "        [ 0.21898741],\n",
              "        [-0.35226403],\n",
              "        [ 0.45326698],\n",
              "        [ 0.56477036]])]"
            ]
          },
          "metadata": {},
          "execution_count": 73
        }
      ]
    },
    {
      "cell_type": "code",
      "source": [
        "mlp_reg.intercepts_"
      ],
      "metadata": {
        "colab": {
          "base_uri": "https://localhost:8080/"
        },
        "id": "P3k58VdCW7My",
        "outputId": "9ba33464-559d-4e34-bc76-201aa4dd65ba"
      },
      "execution_count": 74,
      "outputs": [
        {
          "output_type": "execute_result",
          "data": {
            "text/plain": [
              "[array([-0.50714605,  0.21592962, -0.51551125, -0.11801161, -0.02245648,\n",
              "         0.27132414,  0.16472811, -1.41710228, -0.59262066,  0.52549297,\n",
              "         0.20524881,  0.12347108,  0.40517731,  0.03987057,  0.39052701,\n",
              "         0.11953287, -0.66858716,  0.27404945, -0.42658645,  0.83246683,\n",
              "        -0.46765203,  1.27156337, -0.80250427, -0.5983767 ]),\n",
              " array([-0.31740507, -0.06940779, -0.2167388 , -0.23542976, -0.13476782,\n",
              "         0.02493852, -0.16673281, -0.16492451]),\n",
              " array([-0.3300633])]"
            ]
          },
          "metadata": {},
          "execution_count": 74
        }
      ]
    },
    {
      "cell_type": "code",
      "source": [
        "number = len(mlp_reg.coefs_)\n",
        "\n",
        "for i in range(number):\n",
        "  print(\"\\nМатриця \", i, \" -> \", i+1, \"\\n\")\n",
        "  for j in range(len(mlp_reg.coefs_[i])):\n",
        "    for k in range(len(mlp_reg.coefs_[i][j])):\n",
        "      print(mlp_reg.coefs_[i][j][k], end=\"\\t\")\n",
        "    print()\n",
        "  for j in range(len(mlp_reg.intercepts_[i])):\n",
        "    print(mlp_reg.intercepts_[i][j], end=\"\\t\")\n",
        "  print()\n"
      ],
      "metadata": {
        "colab": {
          "base_uri": "https://localhost:8080/"
        },
        "id": "mTEE57o-Z-1g",
        "outputId": "9edffa17-6c8f-4f5a-d949-8d52e1febe25"
      },
      "execution_count": 75,
      "outputs": [
        {
          "output_type": "stream",
          "name": "stdout",
          "text": [
            "\n",
            "Матриця  0  ->  1 \n",
            "\n",
            "0.02589765018690573\t0.10720124668354175\t0.11186071249402382\t-0.17760546999271462\t-0.024127126122970757\t-0.23822635899778646\t-0.017895532186119778\t0.03728136693965316\t0.1062219467375268\t-0.08371570508335287\t-0.4045349458662035\t0.22984458913343833\t-0.06507855191640805\t0.05437250624304404\t-0.15743373533187177\t-0.04128428362388602\t-1.045600932226808\t0.04913464134218399\t0.09389794902241907\t-0.1721003659952508\t0.09950117441317731\t-0.05785662248514405\t0.04154725868731849\t0.0034109696483493822\t\n",
            "-0.04299972088822037\t0.17551215572464915\t-0.08813593472962668\t0.03560841566151733\t0.12530983983624017\t-0.2286271957853732\t0.014577432116025555\t0.02780718585284638\t-0.13794306193007433\t0.12827583839351026\t0.16667177342032874\t-0.14846332934167916\t-0.06468584772688558\t-0.07695107875680433\t0.036864372958342065\t0.03758360647079096\t-0.27005287067255773\t-0.025884915977167716\t-0.1416231176642451\t0.07422369108983455\t-0.08244922007471352\t-0.01300168055979432\t-0.011814945178123742\t-0.03520642227392383\t\n",
            "0.1679338653022383\t-0.07765393044874959\t0.17891708651025176\t0.35840698446130637\t0.27632710682298156\t0.009138336235882888\t0.25548120161747573\t-0.01118643104961077\t-0.0037434346201562314\t-0.017024924440552924\t-0.36266979650495285\t0.06110081835770993\t0.03849386344090592\t0.06490882327605849\t0.07415806490083927\t-0.18754909822971455\t-0.022024532714128495\t0.1709148203499455\t-0.24298295633777234\t-0.009862346539040943\t0.024925145680558942\t0.0748779646653942\t0.040893558401434785\t0.1677741083983764\t\n",
            "-0.04007926691670905\t0.15556883855331405\t0.28176152921958875\t0.02443523002781466\t0.006014127503904081\t-0.3094628338331061\t-0.14995204215957192\t0.0486152178794099\t0.22764191599820438\t0.0245990215809795\t-0.06106959550483883\t0.1982809876818061\t-0.037797424725099615\t-0.18794924904703955\t0.04632872280789989\t-0.04252948376779949\t0.13327812417330662\t-0.058490811381947394\t-0.011339598928983907\t0.12862387660035096\t0.2503218830623619\t-0.10734044115825164\t0.13458554280481796\t0.058681864873230634\t\n",
            "-0.10857670884273754\t0.040281940971863536\t-0.10917232507109688\t-0.3712608642818445\t-0.31140624786401044\t0.049123629201013444\t-0.1417018760017769\t-0.03675441781341694\t0.2775654120336798\t-0.14052853570169976\t0.016608261102100345\t0.4930292928826607\t0.002952892701430661\t-0.17780964161959636\t0.005837165018239162\t-0.11598117281385617\t0.067695940511468\t-0.07301737944014544\t0.04759327386001656\t0.028409730939283402\t0.06205856271848098\t0.04388560806796361\t0.06856393015060482\t0.029312194699727526\t\n",
            "0.22302905820369281\t0.05228901956890697\t-0.077352259174347\t0.010512749274379937\t-0.13368203455814281\t0.03901163159009942\t0.13011826461554477\t0.0325441442022067\t-0.07160347190604535\t-0.00012293364099663176\t0.044108439081829744\t-0.051271467668747225\t-0.13489098307419034\t-0.060750923464077865\t0.053414081520921315\t-0.0034776105401993686\t-0.20876355268602884\t0.40828615386581163\t0.0036445384112807617\t0.05644644813328102\t0.5043624620229142\t-0.006861259289203272\t0.02054303208931212\t-0.04701016324630798\t\n",
            "-0.2790920575079871\t-0.07438673043850882\t-0.16607833844943207\t0.3742726620994143\t-0.15638849149102776\t-0.008050940360311948\t0.1745480261749045\t-0.546564348269526\t-0.35266975796153827\t0.05732228246597039\t0.3966394601971072\t-0.9514856057885706\t-0.16479872791916\t-0.10884308315214487\t0.06683611979913118\t0.18593171615219256\t0.24058820047870771\t0.08471263159188679\t-0.2783335937831182\t0.2655982905701994\t-0.4307037821680431\t0.6030006697885969\t-0.4067439851207878\t-0.4574515546487637\t\n",
            "-0.3989235942291958\t0.21902652091621083\t0.07598206700314747\t-0.7557487265734152\t0.03630766839187266\t-0.06543691874371546\t-0.03889532901283676\t-0.468485818574978\t-0.02296578991233538\t0.013619138736351144\t0.28065633026015896\t0.08849137239859649\t-0.10293485685311612\t-0.411872704630639\t0.3059435819626807\t0.3031355236386031\t0.21565183981113617\t0.06634915122648238\t0.04085520363077975\t0.2618144770041702\t-0.1843835323036589\t0.28802969910104176\t-0.4513982182794145\t0.1862526847586526\t\n",
            "0.3259053704980071\t0.1880185079931694\t0.08458447683846856\t-0.38339157825259873\t-0.1298856438544698\t0.2482560567645929\t-0.6043458392986994\t0.5708103066295805\t0.29118341883900756\t-0.0648061719103888\t0.10117553723711857\t1.3422883077986763\t0.4883034251223404\t-0.7973221646821552\t-0.12053875221815165\t0.14775534776205035\t-0.5396366046705052\t-0.6586924342682068\t0.32891298656777673\t0.20215660951859163\t0.3855522403836961\t-0.6448855553077906\t0.3571564643015687\t-0.4262492507564463\t\n",
            "0.043442853732882356\t0.21890003595946508\t0.0578014252939858\t0.1906952267473592\t0.4077562307257339\t0.01386585988854217\t-0.19043093164076122\t-0.035989811872705425\t0.053554064076810036\t-0.2674398079147001\t0.16796676292580814\t0.3981794344055023\t0.18229271303980688\t-0.046993469006667524\t0.035419628067757315\t-0.028716465537504402\t-0.01804765719073888\t-0.08012870530819965\t0.009435991576854342\t0.012532645399064134\t-0.06311395224037515\t-0.06867607155623176\t0.011797535862118338\t0.11853212706851227\t\n",
            "0.40923204388875606\t0.217244569154233\t0.3917251716742394\t0.024552405461349788\t-0.26893231855988997\t-0.03271797658288671\t-0.021574819339299188\t0.09537554397508823\t0.3408787681105605\t0.19468157518455426\t-0.13850799583465695\t0.8893038707831973\t0.19858536310915223\t0.034084271642304695\t-0.1575329964998205\t-0.03586957644201231\t0.37154877995279467\t0.04214686467090003\t0.13449405637703238\t-0.27778593579590105\t0.28640270196211975\t0.1657053737799325\t-0.09369437786979211\t0.7197886884073905\t\n",
            "0.7954078658096608\t-0.033388798840493054\t0.6427912000876537\t0.035869158609251876\t-0.20544865650354166\t-0.46046142671272267\t0.40575260997514817\t1.3318269620000662\t0.5848786056153885\t0.14247346394544866\t-0.10056624601994017\t0.019675100888619262\t0.16049690607955133\t0.5916048845218437\t-0.6391223538290508\t-0.07705032023966388\t-0.026063792275497284\t-0.007192932169791212\t0.36186415796400206\t-0.9884961141958564\t0.4777955649544703\t-1.1736195725910952\t0.9312688634565075\t0.20333438354310276\t\n",
            "-0.5642176340364733\t0.10977957769558984\t-0.8870560980978889\t-0.43337684702377294\t0.06475950281686724\t0.05810281060667143\t-0.4197140382335314\t-0.42666727080341504\t-0.165567231798828\t-0.3526637601751712\t0.09348144958163783\t0.028017853168216873\t-0.37273801598759115\t-0.21684332841729168\t0.12190833757936202\t-0.00609446424394865\t0.21347567446735102\t-0.16242782749033988\t-0.0033109768825166502\t0.12955824960552945\t-0.060738012836411975\t0.24053890495550054\t-0.3043431109493763\t-0.14826183559191677\t\n",
            "-0.09166810635644428\t0.83351377834441\t0.09819388456888241\t-0.22181431006385025\t-0.07521158004473516\t-0.16455847793836034\t-0.3496339661697527\t0.16995532216840675\t0.12197223155924755\t0.6129286918157513\t0.7781743671460639\t-0.5908836272419138\t1.1489125802615703\t0.09048590014279748\t-0.034224908574369106\t0.5151458983737615\t-0.2683909878946024\t-0.1053417003151785\t-0.10328454862456199\t0.011115689218786045\t0.05297778740490206\t-0.20851338506755507\t-0.04038984975963395\t-1.1783192823134665\t\n",
            "0.2006166203422786\t0.2519377073774378\t0.0034298929762074963\t-1.2854673681697912\t-0.07616992739351876\t0.021875385209372305\t-0.22723476729591305\t0.08892610738720778\t-0.005427296850577241\t0.299411318204865\t0.9428218729298085\t-0.4341652800206278\t0.3799395950410935\t0.13368824630256643\t0.06318977040325098\t1.1259986781908697\t-0.2036775993944422\t-0.25140709096068753\t-0.17716418958985794\t0.03626148420989823\t-0.010997865669415838\t0.009932065540393071\t0.29909657679981555\t-0.7273379287282596\t\n",
            "-0.018503288020646255\t-0.5028754794391815\t-0.020609571640915914\t-0.03841529522418912\t-0.2140540570406661\t-0.11078999109183611\t-0.0715648797134071\t0.14862074127498806\t-0.02426178126123646\t-0.6602286216751966\t0.10175442226149997\t0.3490248497031126\t-0.973006311511238\t-0.08524012414850297\t-0.20185157320684954\t-0.01924101665681958\t0.4091668243971625\t-0.48301450392377476\t0.4232562005540815\t-0.31949402505772406\t0.041135055405684816\t-0.13604168292114033\t0.14585355024065316\t-0.0961511579017011\t\n",
            "-0.5071460459223092\t0.21592962074889965\t-0.5155112491071338\t-0.1180116091790823\t-0.022456478020842614\t0.27132414172623764\t0.16472811187957664\t-1.4171022833770086\t-0.5926206577340365\t0.5254929709306149\t0.2052488100530537\t0.12347107591633587\t0.40517731370987564\t0.03987057101060602\t0.39052700802598656\t0.11953287150288994\t-0.6685871571654959\t0.2740494508735983\t-0.42658645049407395\t0.832466826014532\t-0.4676520346740034\t1.2715633746513817\t-0.802504274965862\t-0.5983766959964283\t\n",
            "\n",
            "Матриця  1  ->  2 \n",
            "\n",
            "0.5026558729076964\t-0.1277993379517358\t-0.14933037993728285\t0.2181508886863175\t0.28403257199654536\t-0.07299334849086227\t0.1303951016789232\t0.015432362290500462\t\n",
            "-0.3685544791388044\t-0.06482164253739238\t0.0837570668756655\t0.07065711182764686\t0.1774691884597119\t0.2444855823530529\t-0.259144918712263\t-0.14786896888924148\t\n",
            "0.04898617800857748\t0.13587475595191328\t-0.13564718018830807\t0.22246648231287391\t0.02846732722652517\t-0.30653778009480764\t-0.09219107514031777\t0.17656054305627042\t\n",
            "-0.42953262567221095\t-0.22847614242595707\t-0.27989987350934425\t0.01868814673681797\t-0.22442950132321338\t0.32704665383225595\t0.0016152443474933605\t-0.4142664683966156\t\n",
            "-0.23413258181000993\t0.3368280528431751\t-0.15594622221544882\t-0.05340985406729517\t0.26700131258342163\t0.20708049950789612\t0.28211234979532174\t0.07515624846789752\t\n",
            "-0.44047065419918463\t-0.1351019160387771\t0.05166951780041766\t0.06713968414528909\t0.060619749510294654\t0.2861218647256495\t-0.19664062319569744\t-0.10966575333166921\t\n",
            "-0.18326917743786783\t0.08336171316715948\t-0.36529401008398193\t-0.1742602776698712\t-0.09451424002590765\t0.02694300292180159\t0.16550162630964543\t0.016324943511889168\t\n",
            "0.907602029582496\t0.20365673160417747\t-0.32290151879665885\t0.3691467131784643\t0.10760014083270421\t-0.09380086703669194\t0.02625063317765813\t0.5094770169546304\t\n",
            "0.07260916571731418\t0.25299589762589314\t0.002405427851380729\t0.21831152044035787\t-0.16673733512923483\t-0.06457030384610495\t0.2854530573366568\t0.03520753235614268\t\n",
            "-0.3359635110423457\t0.08835117866744586\t-0.0735166509412002\t-0.022328461167929352\t0.02374660506515389\t0.35735523480646714\t-0.32786728987360886\t-0.2972683750345781\t\n",
            "0.32240615044364185\t0.3217266564795784\t-0.12110956126965433\t0.0929926949417928\t0.01760290345740126\t-0.22340394575722236\t0.04582864089539199\t-0.07226808896875533\t\n",
            "0.3023799990130576\t-0.10990626392144887\t0.22298562943012107\t0.294923868604067\t0.22687502720533334\t-0.10538152091307751\t0.012040324553441754\t0.22426240563042482\t\n",
            "-0.3542572126705247\t-0.299256171919087\t0.32387221962788\t-0.04457998753510096\t0.08668057920539304\t0.349613050562376\t-0.1435520349199525\t-0.3212276788514959\t\n",
            "0.31010201231053997\t0.276333242707255\t-0.35940986212857945\t-0.24712613946932593\t0.020116642009603877\t0.10650734524775707\t0.2835903915651719\t-0.19691045190198758\t\n",
            "-0.3691347363718897\t0.04082174879147666\t0.11268539301325953\t0.21656186901169214\t0.2985402755759992\t0.06893861051746854\t-0.038960419149435994\t-0.22575513513306178\t\n",
            "-0.10923100120186154\t0.2869168944858875\t0.07853052298901053\t0.25944367166444543\t0.3503164185913741\t-0.026232755049897874\t0.1815649549578063\t0.20627786119290126\t\n",
            "0.33166926218427895\t0.07331752315213381\t-0.25232352939717423\t-0.04188648200392737\t0.4388318580064473\t-0.08637672825140275\t0.014632404438752305\t0.1633862255800765\t\n",
            "-0.12526737912371352\t0.036782794966450656\t-0.35823437660100427\t0.11340134070206354\t0.12542506955593408\t0.15193078164567908\t0.038814916798242304\t0.09940311729941984\t\n",
            "0.1520740999031692\t0.006969327281383862\t0.23056245475455991\t-0.14529478664825055\t-0.19815872716535973\t-0.24459906629501987\t0.09122831573639943\t-0.008632386744449529\t\n",
            "-0.6099116270839138\t-0.17233672332304173\t-0.17914278582524298\t-0.3251767833229663\t-0.0733328798645979\t0.2842465988298998\t-0.18737699925948073\t-0.2969641562655616\t\n",
            "0.4019117047350464\t-0.0723189850800926\t0.03843417874118735\t0.0607987584670085\t-0.0558321527151316\t0.01586608627068823\t0.17802400156704387\t0.19563105106971823\t\n",
            "-1.1418862358394175\t0.08822585905627257\t0.03253309219250092\t-0.2797732536193529\t-0.09960390339612459\t0.5909185300813208\t-0.2438903093747794\t-0.4778430313896739\t\n",
            "0.38790298588379857\t-0.07551583822596834\t-0.2374557424132704\t-0.2173868782928426\t-0.14733954071548347\t-0.2782290940850221\t-0.1329061378855006\t0.11022897796268143\t\n",
            "-0.6818947649898512\t-0.25255818842986655\t0.31618285283445335\t-0.22191174853873621\t-0.06859026386324758\t0.0950583713894778\t-0.3799888647438524\t-0.5375850866303726\t\n",
            "-0.3174050746233319\t-0.06940778934091506\t-0.21673880447734967\t-0.23542975527513366\t-0.1347678169155749\t0.024938517738342318\t-0.16673280585387404\t-0.16492451093090174\t\n",
            "\n",
            "Матриця  2  ->  3 \n",
            "\n",
            "0.31412861773823275\t\n",
            "0.29213696359078\t\n",
            "-0.4117979234607882\t\n",
            "0.3869624979983261\t\n",
            "0.21898741250100584\t\n",
            "-0.3522640339308329\t\n",
            "0.4532669771787929\t\n",
            "0.5647703589122595\t\n",
            "-0.3300633046448064\t\n"
          ]
        }
      ]
    },
    {
      "cell_type": "code",
      "source": [
        "\n",
        "#age (число) – вік\n",
        "#job (текст) – ким працює: \"admin.\",\"unknown\",\"unemployed\",\"management\",\"housemaid\",\"entrepreneur\",\"student\", \"blue-collar\",\"self-employed\",\"retired\" (на пенсії),\"technician\",\"services\"\n",
        "#marital\t(текст) – брачний статус: 'divorced' (розлучений(а), удівець (удова)), 'married', 'single'\n",
        "#education\t(текст) – рівень освіти: \"unknown\",\"secondary\",\"primary\",\"tertiary\" (закінчив університет)\n",
        "#default (текст) – наявність кредитної заборгованості: \"yes\",\"no\" (відсутня)\n",
        "#balance (число) – середній річний баланс рахунку (у євро)\n",
        "#housing (текст) – наявність кредиту: \"yes\",\"no\"\n",
        "#loan (текст) – наявність кредиту: \"yes\",\"no\"\n",
        "#contact (текст) – як зв’язувались: \"unknown\", \"telephone\" (стаціонарним телефоном), \"cellular\"\n",
        "#day (число) – день місяця\n",
        "#month (текст) - місяць: \"jan\", \"feb\", \"mar\", ..., \"nov\", \"dec\" (грудень)\n",
        "#duration (число) - тривалість дзвінка у секундах\n",
        "#campaign (число) - кількість дзвінків\n",
        "#pdays (число) - кількість днів з попереднього дзвінка (-1 для першого контакту)\n",
        "#previous (число) - кількість дзвінків від банку до початку поточної кампанії\n",
        "#poutcome (текст) - результат попередньої кампанії: \"unknown\", \"other\", \"failure\", \"success\" (вдалий)\n",
        "\n"
      ],
      "metadata": {
        "colab": {
          "base_uri": "https://localhost:8080/"
        },
        "id": "sXrRNz1Db6Kr",
        "outputId": "dce1d439-0d6e-4d27-ed60-1e60a0ee49dd"
      },
      "execution_count": 79,
      "outputs": [
        {
          "output_type": "stream",
          "name": "stdout",
          "text": [
            "Ймовірність того, що даний клієнт покладе кошти на депозит - 0.11105826237921024\n",
            "Не варто телефонувати\n"
          ]
        }
      ]
    },
    {
      "cell_type": "code",
      "source": [
        "from ipywidgets import interact, interactive, fixed, interact_manual\n",
        "import ipywidgets as widgets\n",
        "\n",
        "@interact\n",
        "def g(age=(18, 122),\n",
        "      job = [(\"admin.\", 1), (\"unknown\", 2), (\"unemployed\", 3), (\"management\", 4), (\"housemaid\", 5), (\"entrepreneur\", 6), (\"student\", 7),\n",
        "       (\"blue-collar\", 8), (\"self-employed\", 9), (\"retired\", 10), (\"technician\", 11), (\"services\", 12)],\n",
        "      marital=[('divorced',-1), ('married', +1), ('single', 0)],\n",
        "      education = [(\"unknown\", 0), (\"secondary\", 2), (\"primary\", 1), (\"tertiary\", 3)],\n",
        "      default = [(\"yes\", 1), (\"no\", 0)],\n",
        "      balance=(-10000, 200000),\n",
        "      housing = [(\"yes\", 1), (\"no\", 0)],\n",
        "      loan = [(\"yes\", 1), (\"no\", 0)],\n",
        "      contact = [(\"unknown\", 0), (\"telephone\", 1), (\"cellular\", 2)],\n",
        "      day=(1,31),\n",
        "      month = [(\"jan\", 1), (\"feb\", 2), (\"mar\", 3), (\"apr\", 4), (\"may\", 5), (\"jun\", 6), (\"jul\", 7), (\"aug\", 8), (\"sep\", 9), (\"oct\", 10), (\"nov\", 11), (\"dec\", 12)],\n",
        "      duration = (0, 5000),\n",
        "      campaign=(1, 100),\n",
        "      pdays=(-1, 1000),\n",
        "      previous=(0, 300),\n",
        "      poutcome = [(\"unknown\",  0), (\"other\", 1), (\"failure\", -1), (\"success\",2)]):\n",
        "    client = [[age,job,marital,education,default,balance,housing,loan,contact,day,month,duration,campaign,pdays,previous, poutcome]]\n",
        "    y_hat_client = pipeline.predict(client)\n",
        "\n",
        "    print(\"Ймовірність того, що даний клієнт покладе кошти на депозит -\", y_hat_client[0])\n",
        "    threshold = 0.25\n",
        "    if y_hat_client[0]> threshold:\n",
        "      print(\"Спробуйте зателефонувати\")\n",
        "    else:\n",
        "      print(\"Не варто телефонувати\")\n",
        "\n",
        "\n"
      ],
      "metadata": {
        "colab": {
          "base_uri": "https://localhost:8080/",
          "height": 564,
          "referenced_widgets": [
            "3dfd6c2ffbf447c0b6f8f6ee3a65100f",
            "02820f397fb44b8e8eb45d8545ae7157",
            "79a4324baca54500b4dbea81be75861b",
            "17003ee5db5c4a03b2972bdbb7c302c1",
            "fc2ae3cf89ef4d6d9d15a89e83f7dba3",
            "8a4e334aac60493796317ae862d08974",
            "719214e4c3214f8a9f6770ee5b227132",
            "1ba4a42c709b43b385d64cacfd3b499a",
            "e4e758f280504f6582306be8829d8d54",
            "cc72b2fb72244e2885809c4aab76a836",
            "f54e9eab8961400c878ab2ad6d907058",
            "014be21f0b994a3b97ac009973a31691",
            "b56f1d54222a4049b434f43ae411fbef",
            "1c99d720c2bf4abab91457bf39f9a071",
            "d66bf1c85bb844c7865107efa4c17693",
            "2171ea8e525b487f8181d42d051a1bab",
            "4345eae99e5c43669b6510229a6b47d5",
            "3cc9fb3cf50e4b86ad27e6be02c8974f",
            "fa6a73d7fe6f4a22a2581b4566e2d94b",
            "111c932e8d98409fbf07d83694aaaeeb",
            "e33ea93f5b814729a169fcc3c4b6b15a",
            "f76699c8a0d440ed92060e951deb7b83",
            "c1a74f1e73054c4fbba954ab62fbe226",
            "01ca2e657952423bb3083169cb90aacd",
            "39960be9ebbf47b583e5095224ab000a",
            "865df21d95d04025b16ed21d45deb006",
            "587a00e28f914f1f877e6ab87b33d227",
            "f0509bd6f25b4abe92330dfe546e624c",
            "db3635d7f2604e418dfed8f4be05d1e7",
            "33deb1ec4a17435b9da37a4741e05c06",
            "35d979ef732a451ea7c0a3e6161eae0e",
            "b15eb8731fd7413f83c2cac49061c96f",
            "8751acc88da149f59ebc8365c6b73fba",
            "7287d45d707a479ab0b450150e48b914",
            "52e7400c73a848c5b3a5e14aa9201cbe",
            "8cbff0261bf044b9b8b58e5c78ce39b8",
            "657ef7b33e0b42e7a3343799c4ca1de2",
            "b5629b6bd75b44d9b37e0a350a64d4cb",
            "207dd7d9b7024ecf88dc1120a36b3e8a",
            "a9110db1bea94cf3a481353a2240b1c5",
            "97250714f0e24a72a706a58370ce1d2a",
            "d57ed1dc7bad45b18ebaf823aeee63c2",
            "81eb537d4e284166ad6c6acef85859a2",
            "1c58c9bb9118491696f40a0215d8af73",
            "1f0e6925c5944623b39452d5f91f4e0b",
            "5824af09d398492cbb90c89a54423eb6",
            "a9df5efc0d5f4b18b193ffb4849f0dc3",
            "3fc2be09f9fa473da76a370b8ece7225",
            "e78dfe8b7c184694bc9d4423a7482147",
            "63f4563bdf69437987d35819e54452e6",
            "c39e7e97db9940feb71ab51258ddd92c",
            "660488de65c1447ab77165be37f212fc"
          ]
        },
        "id": "RtbwIb8Mhqw6",
        "outputId": "7568bc6d-dd79-410b-cabc-d1babcf71084"
      },
      "execution_count": 89,
      "outputs": [
        {
          "output_type": "display_data",
          "data": {
            "text/plain": [
              "interactive(children=(IntSlider(value=70, description='age', max=122, min=18), Dropdown(description='job', opt…"
            ],
            "application/vnd.jupyter.widget-view+json": {
              "version_major": 2,
              "version_minor": 0,
              "model_id": "3dfd6c2ffbf447c0b6f8f6ee3a65100f"
            }
          },
          "metadata": {}
        }
      ]
    },
    {
      "cell_type": "code",
      "source": [],
      "metadata": {
        "colab": {
          "base_uri": "https://localhost:8080/"
        },
        "id": "R7vJZOY7i0cp",
        "outputId": "d4dd7411-6812-422a-a46f-776c1277e570"
      },
      "execution_count": 82,
      "outputs": [
        {
          "output_type": "execute_result",
          "data": {
            "text/plain": [
              "23"
            ]
          },
          "metadata": {},
          "execution_count": 82
        }
      ]
    },
    {
      "cell_type": "code",
      "source": [],
      "metadata": {
        "colab": {
          "base_uri": "https://localhost:8080/",
          "height": 98,
          "referenced_widgets": [
            "17c71c3af0e64edbbf07995465eda806",
            "a4374f2477a14e18ab7d3ca25ed9cc4e",
            "dbd9eb696f6c48aa929d23d0b3465750",
            "568b2c904ae54b7a995c724fe5a0111f",
            "f56d781358384172ba2e37e49652e7e4",
            "570832a4300f495d817018ab2ab4b8dd",
            "9e22ab65e8cf43debdcb2b09feb8ab3b",
            "d24ee0a939c1406ba6b3267656581efb",
            "6086a150f0b04cdd9a602c8cd5c74614",
            "4443f53669f341d8a97633c5a1463c00"
          ]
        },
        "id": "NJemZIlyi2Wi",
        "outputId": "33d99d22-1e62-4efc-9d5b-c61ae5524f3f"
      },
      "execution_count": 85,
      "outputs": [
        {
          "output_type": "display_data",
          "data": {
            "text/plain": [
              "interactive(children=(Checkbox(value=True, description='x'), FloatSlider(value=1.0, description='y', max=3.0, …"
            ],
            "application/vnd.jupyter.widget-view+json": {
              "version_major": 2,
              "version_minor": 0,
              "model_id": "17c71c3af0e64edbbf07995465eda806"
            }
          },
          "metadata": {}
        }
      ]
    },
    {
      "cell_type": "code",
      "source": [],
      "metadata": {
        "id": "48EBFpKMjfxG"
      },
      "execution_count": null,
      "outputs": []
    }
  ]
}