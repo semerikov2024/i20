{
  "nbformat": 4,
  "nbformat_minor": 0,
  "metadata": {
    "colab": {
      "provenance": []
    },
    "kernelspec": {
      "name": "python3",
      "display_name": "Python 3"
    },
    "language_info": {
      "name": "python"
    }
  },
  "cells": [
    {
      "cell_type": "code",
      "execution_count": 2,
      "metadata": {
        "colab": {
          "base_uri": "https://localhost:8080/"
        },
        "id": "ILV-6coU9Aqr",
        "outputId": "d115221d-a091-436e-d1b5-a9a0e8fdb0aa"
      },
      "outputs": [
        {
          "output_type": "stream",
          "name": "stdout",
          "text": [
            "--2023-11-17 11:06:53--  https://archive.ics.uci.edu/static/public/222/bank+marketing.zip\n",
            "Resolving archive.ics.uci.edu (archive.ics.uci.edu)... 128.195.10.252\n",
            "Connecting to archive.ics.uci.edu (archive.ics.uci.edu)|128.195.10.252|:443... connected.\n",
            "HTTP request sent, awaiting response... 200 OK\n",
            "Length: unspecified\n",
            "Saving to: ‘bank+marketing.zip’\n",
            "\n",
            "bank+marketing.zip      [  <=>               ] 999.85K  4.56MB/s    in 0.2s    \n",
            "\n",
            "2023-11-17 11:06:54 (4.56 MB/s) - ‘bank+marketing.zip’ saved [1023843]\n",
            "\n"
          ]
        }
      ],
      "source": [
        "!wget https://archive.ics.uci.edu/static/public/222/bank+marketing.zip"
      ]
    },
    {
      "cell_type": "code",
      "source": [
        "!unzip bank+marketing.zip"
      ],
      "metadata": {
        "colab": {
          "base_uri": "https://localhost:8080/"
        },
        "id": "RbztC7AD9UJk",
        "outputId": "81a6d90b-de74-455d-905b-da6e5669c897"
      },
      "execution_count": 3,
      "outputs": [
        {
          "output_type": "stream",
          "name": "stdout",
          "text": [
            "Archive:  bank+marketing.zip\n",
            " extracting: bank.zip                \n",
            " extracting: bank-additional.zip     \n"
          ]
        }
      ]
    },
    {
      "cell_type": "code",
      "source": [
        "!unzip bank.zip\n"
      ],
      "metadata": {
        "colab": {
          "base_uri": "https://localhost:8080/"
        },
        "id": "jR_gFq2S9vb5",
        "outputId": "3914f641-b9b3-4328-db36-832d5fe71eb8"
      },
      "execution_count": 4,
      "outputs": [
        {
          "output_type": "stream",
          "name": "stdout",
          "text": [
            "Archive:  bank.zip\n",
            "  inflating: bank-full.csv           \n",
            "  inflating: bank-names.txt          \n",
            "  inflating: bank.csv                \n"
          ]
        }
      ]
    },
    {
      "cell_type": "code",
      "source": [
        "import csv\n",
        "\n",
        "def recode(row):\n",
        "  match row[1]:\n",
        "    case \"admin.\":\n",
        "      job = 1\n",
        "    case \"unknown\":\n",
        "      job = 2\n",
        "    case \"unemployed\":\n",
        "      job = 3\n",
        "    case \"management\":\n",
        "      job = 4\n",
        "    case \"housemaid\":\n",
        "      job = 5\n",
        "    case \"entrepreneur\":\n",
        "      job = 6\n",
        "    case \"student\":\n",
        "      job = 7\n",
        "    case \"blue-collar\":\n",
        "      job = 8\n",
        "    case \"self-employed\":\n",
        "      job = 9\n",
        "    case \"retired\":\n",
        "      job = 10\n",
        "    case \"technician\":\n",
        "      job = 11\n",
        "    case \"services\":\n",
        "      job = 12\n",
        "\n",
        "  if row[2] == 'divorced':\n",
        "    marital = -1\n",
        "  elif row[2] == 'married':\n",
        "    marital = +1\n",
        "  elif row[2] == 'single':\n",
        "    marital = 0\n",
        "\n",
        "  #print(row[3])\n",
        "  # categorical: \"unknown\",\"secondary\",\"primary\",\"tertiary\")\n",
        "  match row[3]:\n",
        "    case \"unknown\":\n",
        "      education = 0\n",
        "    case \"secondary\":\n",
        "      education = 2\n",
        "    case \"primary\":\n",
        "      education = 1\n",
        "    case \"tertiary\":\n",
        "      education = 3\n",
        "\n",
        "  #default – \"yes\" - 1,\"no\" - 0\n",
        "  if row[4] == \"yes\":\n",
        "    default = 1\n",
        "  else:\n",
        "    default = 0\n",
        "\n",
        "  #housing – \"yes\" - 1,\"no\" - 0\n",
        "  if row[6] == \"yes\":\n",
        "    housing = 1\n",
        "  else:\n",
        "    housing = 0\n",
        "\n",
        "  #loan – \"yes\" - 1,\"no\" - 0\n",
        "  if row[7] == \"yes\":\n",
        "    loan = 1\n",
        "  else:\n",
        "    loan = 0\n",
        "\n",
        "  if row[8] == \"unknown\":\n",
        "    contact = 0\n",
        "  elif row[8] == \"telephone\":# - 1, \"cellular\" - 2\n",
        "    contact = 1\n",
        "  elif row[8] == \"cellular\":\n",
        "    contact = 2\n",
        "\n",
        "  #row[10] #month – \"jan\" - 1, \"feb\" - 2, \"mar\" - 3, “apr” - 4, “may” - 5, “jun” - 6, “jul” - 7, “aug” - 8, “sep” - 9, “oct” - 10, \"nov\" - 11, \"dec\" - 12\n",
        "  match row[10]:\n",
        "    case \"jan\":\n",
        "      month = 1\n",
        "    case \"feb\":\n",
        "      month = 2\n",
        "    case \"mar\":\n",
        "      month = 3\n",
        "    case \"apr\":\n",
        "      month = 4\n",
        "    case \"may\":\n",
        "      month = 5\n",
        "    case \"jun\":\n",
        "      month = 6\n",
        "    case \"jul\":\n",
        "      month = 7\n",
        "    case \"aug\":\n",
        "      month = 8\n",
        "    case \"sep\":\n",
        "      month = 9\n",
        "    case \"oct\":\n",
        "      month = 10\n",
        "    case \"nov\":\n",
        "      month = 11\n",
        "    case \"dec\":\n",
        "      month = 12\n",
        "\n",
        "  match row[15]:\n",
        "    case \"unknown\":\n",
        "      poutcome = 0\n",
        "    case \"other\":\n",
        "      poutcome = 1\n",
        "    case \"failure\":\n",
        "      poutcome = -1\n",
        "    case \"success\":\n",
        "      poutcome = 2\n",
        "\n",
        "  if row[16] == \"yes\":\n",
        "    y = 1\n",
        "  else:\n",
        "    y = 0\n",
        "\n",
        "  #return [row[0], job, marital, education ]\n",
        "  return  [int(row[0]), job, marital, education, default, int(row[5]), housing, loan, contact, int(row[9]), month,\n",
        "         int(row[11]), int(row[12]), int(row[13]), int(row[14]), poutcome, y]\n",
        "\n",
        "numrows = 0\n",
        "recoded = [] # числовий масив даних\n",
        "\n",
        "with open('bank-full.csv', newline='') as csvfile:\n",
        "    data = csv.reader(csvfile, delimiter=\";\", quotechar='\"')\n",
        "    next(data)\n",
        "    for row in data:\n",
        "      #print(numrows)\n",
        "      res = recode(row)\n",
        "      recoded.append(res)\n",
        "      numrows += 1\n",
        "      #print(res)\n",
        "\n",
        "print(numrows)\n",
        "print(recoded[0])\n",
        "print(recoded[1])\n",
        "\n",
        "\n",
        "#f.close"
      ],
      "metadata": {
        "colab": {
          "base_uri": "https://localhost:8080/"
        },
        "id": "MXSwOnpX95Zc",
        "outputId": "b013fd5b-1f9f-48e0-f302-3e61307ec8fd"
      },
      "execution_count": 28,
      "outputs": [
        {
          "output_type": "stream",
          "name": "stdout",
          "text": [
            "45211\n",
            "[58, 4, 1, 3, 0, 2143, 1, 0, 0, 5, 5, 261, 1, -1, 0, 0, 0]\n",
            "[44, 11, 0, 2, 0, 29, 1, 0, 0, 5, 5, 151, 1, -1, 0, 0, 0]\n"
          ]
        }
      ]
    },
    {
      "cell_type": "code",
      "source": [
        "f = open('bank.txt', 'w')\n",
        "for row in recoded:\n",
        "  for col in row:\n",
        "    f.write(str(col) + \"\\t\")\n",
        "  f.write(\"\\n\")\n",
        "f.close()"
      ],
      "metadata": {
        "id": "wUGB-VMF-0V9"
      },
      "execution_count": 35,
      "outputs": []
    },
    {
      "cell_type": "code",
      "source": [
        "print(recoded[45176])"
      ],
      "metadata": {
        "colab": {
          "base_uri": "https://localhost:8080/"
        },
        "id": "WSxziQhNIbFn",
        "outputId": "925c1855-3fb1-4f2e-a1d1-ac6c8fab8bef"
      },
      "execution_count": 32,
      "outputs": [
        {
          "output_type": "stream",
          "name": "stdout",
          "text": [
            "[54, 1, 1, 2, 0, 66, 1, 0, 2, 11, 11, 167, 1, -1, 0, 0, 1]\n"
          ]
        }
      ]
    },
    {
      "cell_type": "code",
      "source": [
        "print(recoded[45177])"
      ],
      "metadata": {
        "colab": {
          "base_uri": "https://localhost:8080/"
        },
        "id": "5iuhd6GEKxja",
        "outputId": "cfcc0f28-149b-4021-f182-7f1c437d6530"
      },
      "execution_count": 33,
      "outputs": [
        {
          "output_type": "stream",
          "name": "stdout",
          "text": [
            "[36, 1, -1, 2, 0, 1224, 1, 0, 2, 12, 11, 482, 1, 374, 1, 2, 1]\n"
          ]
        }
      ]
    },
    {
      "cell_type": "code",
      "source": [
        "import numpy as np\n",
        "from sklearn.linear_model import LogisticRegression"
      ],
      "metadata": {
        "id": "Mi_NXYmcK0lF"
      },
      "execution_count": 41,
      "outputs": []
    },
    {
      "cell_type": "code",
      "source": [
        "data = np.array(recoded)"
      ],
      "metadata": {
        "id": "qjlQvio9XHvb"
      },
      "execution_count": 42,
      "outputs": []
    },
    {
      "cell_type": "code",
      "source": [
        "Y = data[:,-1]\n",
        "X = data[:,:-1]"
      ],
      "metadata": {
        "id": "81ewF8RSXL3i"
      },
      "execution_count": 47,
      "outputs": []
    },
    {
      "cell_type": "code",
      "source": [
        "X.shape"
      ],
      "metadata": {
        "colab": {
          "base_uri": "https://localhost:8080/"
        },
        "id": "ijUbXCy_XUyu",
        "outputId": "266cfe7b-cf86-40c1-ece9-163ac127c076"
      },
      "execution_count": 49,
      "outputs": [
        {
          "output_type": "execute_result",
          "data": {
            "text/plain": [
              "(45211, 16)"
            ]
          },
          "metadata": {},
          "execution_count": 49
        }
      ]
    },
    {
      "cell_type": "code",
      "source": [
        "Y.shape"
      ],
      "metadata": {
        "colab": {
          "base_uri": "https://localhost:8080/"
        },
        "id": "pEjF8H15XWWv",
        "outputId": "5371f3d3-db28-4ea9-afd2-25ed79934c4b"
      },
      "execution_count": 50,
      "outputs": [
        {
          "output_type": "execute_result",
          "data": {
            "text/plain": [
              "(45211,)"
            ]
          },
          "metadata": {},
          "execution_count": 50
        }
      ]
    },
    {
      "cell_type": "code",
      "source": [
        "logistic = LogisticRegression(max_iter=100000)"
      ],
      "metadata": {
        "id": "V0J4GCfwXaiY"
      },
      "execution_count": 57,
      "outputs": []
    },
    {
      "cell_type": "code",
      "source": [
        "logistic.fit(X, Y)"
      ],
      "metadata": {
        "colab": {
          "base_uri": "https://localhost:8080/",
          "height": 74
        },
        "id": "pzcj9C4eZpjw",
        "outputId": "a92a6c17-672b-4027-bf0f-7160a5bda5f3"
      },
      "execution_count": 58,
      "outputs": [
        {
          "output_type": "execute_result",
          "data": {
            "text/plain": [
              "LogisticRegression(max_iter=100000)"
            ],
            "text/html": [
              "<style>#sk-container-id-4 {color: black;background-color: white;}#sk-container-id-4 pre{padding: 0;}#sk-container-id-4 div.sk-toggleable {background-color: white;}#sk-container-id-4 label.sk-toggleable__label {cursor: pointer;display: block;width: 100%;margin-bottom: 0;padding: 0.3em;box-sizing: border-box;text-align: center;}#sk-container-id-4 label.sk-toggleable__label-arrow:before {content: \"▸\";float: left;margin-right: 0.25em;color: #696969;}#sk-container-id-4 label.sk-toggleable__label-arrow:hover:before {color: black;}#sk-container-id-4 div.sk-estimator:hover label.sk-toggleable__label-arrow:before {color: black;}#sk-container-id-4 div.sk-toggleable__content {max-height: 0;max-width: 0;overflow: hidden;text-align: left;background-color: #f0f8ff;}#sk-container-id-4 div.sk-toggleable__content pre {margin: 0.2em;color: black;border-radius: 0.25em;background-color: #f0f8ff;}#sk-container-id-4 input.sk-toggleable__control:checked~div.sk-toggleable__content {max-height: 200px;max-width: 100%;overflow: auto;}#sk-container-id-4 input.sk-toggleable__control:checked~label.sk-toggleable__label-arrow:before {content: \"▾\";}#sk-container-id-4 div.sk-estimator input.sk-toggleable__control:checked~label.sk-toggleable__label {background-color: #d4ebff;}#sk-container-id-4 div.sk-label input.sk-toggleable__control:checked~label.sk-toggleable__label {background-color: #d4ebff;}#sk-container-id-4 input.sk-hidden--visually {border: 0;clip: rect(1px 1px 1px 1px);clip: rect(1px, 1px, 1px, 1px);height: 1px;margin: -1px;overflow: hidden;padding: 0;position: absolute;width: 1px;}#sk-container-id-4 div.sk-estimator {font-family: monospace;background-color: #f0f8ff;border: 1px dotted black;border-radius: 0.25em;box-sizing: border-box;margin-bottom: 0.5em;}#sk-container-id-4 div.sk-estimator:hover {background-color: #d4ebff;}#sk-container-id-4 div.sk-parallel-item::after {content: \"\";width: 100%;border-bottom: 1px solid gray;flex-grow: 1;}#sk-container-id-4 div.sk-label:hover label.sk-toggleable__label {background-color: #d4ebff;}#sk-container-id-4 div.sk-serial::before {content: \"\";position: absolute;border-left: 1px solid gray;box-sizing: border-box;top: 0;bottom: 0;left: 50%;z-index: 0;}#sk-container-id-4 div.sk-serial {display: flex;flex-direction: column;align-items: center;background-color: white;padding-right: 0.2em;padding-left: 0.2em;position: relative;}#sk-container-id-4 div.sk-item {position: relative;z-index: 1;}#sk-container-id-4 div.sk-parallel {display: flex;align-items: stretch;justify-content: center;background-color: white;position: relative;}#sk-container-id-4 div.sk-item::before, #sk-container-id-4 div.sk-parallel-item::before {content: \"\";position: absolute;border-left: 1px solid gray;box-sizing: border-box;top: 0;bottom: 0;left: 50%;z-index: -1;}#sk-container-id-4 div.sk-parallel-item {display: flex;flex-direction: column;z-index: 1;position: relative;background-color: white;}#sk-container-id-4 div.sk-parallel-item:first-child::after {align-self: flex-end;width: 50%;}#sk-container-id-4 div.sk-parallel-item:last-child::after {align-self: flex-start;width: 50%;}#sk-container-id-4 div.sk-parallel-item:only-child::after {width: 0;}#sk-container-id-4 div.sk-dashed-wrapped {border: 1px dashed gray;margin: 0 0.4em 0.5em 0.4em;box-sizing: border-box;padding-bottom: 0.4em;background-color: white;}#sk-container-id-4 div.sk-label label {font-family: monospace;font-weight: bold;display: inline-block;line-height: 1.2em;}#sk-container-id-4 div.sk-label-container {text-align: center;}#sk-container-id-4 div.sk-container {/* jupyter's `normalize.less` sets `[hidden] { display: none; }` but bootstrap.min.css set `[hidden] { display: none !important; }` so we also need the `!important` here to be able to override the default hidden behavior on the sphinx rendered scikit-learn.org. See: https://github.com/scikit-learn/scikit-learn/issues/21755 */display: inline-block !important;position: relative;}#sk-container-id-4 div.sk-text-repr-fallback {display: none;}</style><div id=\"sk-container-id-4\" class=\"sk-top-container\"><div class=\"sk-text-repr-fallback\"><pre>LogisticRegression(max_iter=100000)</pre><b>In a Jupyter environment, please rerun this cell to show the HTML representation or trust the notebook. <br />On GitHub, the HTML representation is unable to render, please try loading this page with nbviewer.org.</b></div><div class=\"sk-container\" hidden><div class=\"sk-item\"><div class=\"sk-estimator sk-toggleable\"><input class=\"sk-toggleable__control sk-hidden--visually\" id=\"sk-estimator-id-4\" type=\"checkbox\" checked><label for=\"sk-estimator-id-4\" class=\"sk-toggleable__label sk-toggleable__label-arrow\">LogisticRegression</label><div class=\"sk-toggleable__content\"><pre>LogisticRegression(max_iter=100000)</pre></div></div></div></div></div>"
            ]
          },
          "metadata": {},
          "execution_count": 58
        }
      ]
    },
    {
      "cell_type": "code",
      "source": [
        "logistic.coef_"
      ],
      "metadata": {
        "colab": {
          "base_uri": "https://localhost:8080/"
        },
        "id": "7n99M24iZzwY",
        "outputId": "57e39758-af9b-40bd-94b3-8db0ce93e092"
      },
      "execution_count": 59,
      "outputs": [
        {
          "output_type": "execute_result",
          "data": {
            "text/plain": [
              "array([[ 5.68743899e-05, -1.95463451e-02, -1.73076875e-01,\n",
              "         1.02018169e-01, -2.49048351e-01,  1.94973339e-05,\n",
              "        -9.05402047e-01, -1.08521872e+00,  5.26218780e-01,\n",
              "        -7.06656001e-03, -1.50170575e-02,  3.93668197e-03,\n",
              "        -1.16242039e-01,  2.05697800e-03,  3.31683153e-02,\n",
              "         7.97910326e-01]])"
            ]
          },
          "metadata": {},
          "execution_count": 59
        }
      ]
    },
    {
      "cell_type": "code",
      "source": [
        "logistic.intercept_"
      ],
      "metadata": {
        "colab": {
          "base_uri": "https://localhost:8080/"
        },
        "id": "JOZVt47CbPkx",
        "outputId": "fb03d3ea-246b-4dd6-83c3-57f71d6cade8"
      },
      "execution_count": 60,
      "outputs": [
        {
          "output_type": "execute_result",
          "data": {
            "text/plain": [
              "array([-3.36648107])"
            ]
          },
          "metadata": {},
          "execution_count": 60
        }
      ]
    },
    {
      "cell_type": "code",
      "source": [],
      "metadata": {
        "id": "AWGgEKn_b7aZ"
      },
      "execution_count": null,
      "outputs": []
    }
  ]
}